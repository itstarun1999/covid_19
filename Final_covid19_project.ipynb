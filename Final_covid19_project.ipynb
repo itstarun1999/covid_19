{
 "cells": [
  {
   "cell_type": "code",
   "execution_count": 44,
   "id": "80dad764",
   "metadata": {},
   "outputs": [],
   "source": [
    "import os\n",
    "import pandas as pd\n",
    "import numpy as np\n",
    "import matplotlib.pyplot as plt\n",
    "import seaborn as sns\n",
    "\n",
    "import scipy.stats as stats \n",
    "from sklearn import metrics \n",
    "from sklearn.model_selection import train_test_split,GridSearchCV, RandomizedSearchCV\n",
    "from sklearn.tree import DecisionTreeClassifier\n",
    "from sklearn.model_selection import train_test_split  \n",
    "from sklearn.linear_model import LogisticRegression    \n",
    "from sklearn.ensemble import RandomForestRegressor\n"
   ]
  },
  {
   "cell_type": "code",
   "execution_count": 45,
   "id": "8bfb530b",
   "metadata": {},
   "outputs": [],
   "source": [
    "os.chdir('C:\\\\Users\\\\yashi')"
   ]
  },
  {
   "cell_type": "code",
   "execution_count": 46,
   "id": "cd68a613",
   "metadata": {},
   "outputs": [],
   "source": [
    "df = pd.read_csv('covid19_sample.csv')"
   ]
  },
  {
   "cell_type": "code",
   "execution_count": 47,
   "id": "b13c8959",
   "metadata": {},
   "outputs": [
    {
     "data": {
      "text/html": [
       "<div>\n",
       "<style scoped>\n",
       "    .dataframe tbody tr th:only-of-type {\n",
       "        vertical-align: middle;\n",
       "    }\n",
       "\n",
       "    .dataframe tbody tr th {\n",
       "        vertical-align: top;\n",
       "    }\n",
       "\n",
       "    .dataframe thead th {\n",
       "        text-align: right;\n",
       "    }\n",
       "</style>\n",
       "<table border=\"1\" class=\"dataframe\">\n",
       "  <thead>\n",
       "    <tr style=\"text-align: right;\">\n",
       "      <th></th>\n",
       "      <th>Unnamed: 0</th>\n",
       "      <th>cdc_report_dt</th>\n",
       "      <th>pos_spec_dt</th>\n",
       "      <th>onset_dt</th>\n",
       "      <th>current_status</th>\n",
       "      <th>sex</th>\n",
       "      <th>age_group</th>\n",
       "      <th>Race and ethnicity (combined)</th>\n",
       "      <th>hosp_yn</th>\n",
       "      <th>icu_yn</th>\n",
       "      <th>death_yn</th>\n",
       "      <th>medcond_yn</th>\n",
       "    </tr>\n",
       "  </thead>\n",
       "  <tbody>\n",
       "    <tr>\n",
       "      <th>0</th>\n",
       "      <td>3517780</td>\n",
       "      <td>2020/07/22</td>\n",
       "      <td>NaN</td>\n",
       "      <td>NaN</td>\n",
       "      <td>Laboratory-confirmed case</td>\n",
       "      <td>Female</td>\n",
       "      <td>70 - 79 Years</td>\n",
       "      <td>White, Non-Hispanic</td>\n",
       "      <td>Yes</td>\n",
       "      <td>Missing</td>\n",
       "      <td>Yes</td>\n",
       "      <td>Missing</td>\n",
       "    </tr>\n",
       "    <tr>\n",
       "      <th>1</th>\n",
       "      <td>3679793</td>\n",
       "      <td>2020/08/07</td>\n",
       "      <td>2020/08/04</td>\n",
       "      <td>NaN</td>\n",
       "      <td>Laboratory-confirmed case</td>\n",
       "      <td>Female</td>\n",
       "      <td>80+ Years</td>\n",
       "      <td>White, Non-Hispanic</td>\n",
       "      <td>Yes</td>\n",
       "      <td>Unknown</td>\n",
       "      <td>Yes</td>\n",
       "      <td>Missing</td>\n",
       "    </tr>\n",
       "    <tr>\n",
       "      <th>2</th>\n",
       "      <td>3331587</td>\n",
       "      <td>2020/03/31</td>\n",
       "      <td>NaN</td>\n",
       "      <td>NaN</td>\n",
       "      <td>Laboratory-confirmed case</td>\n",
       "      <td>Male</td>\n",
       "      <td>70 - 79 Years</td>\n",
       "      <td>White, Non-Hispanic</td>\n",
       "      <td>Yes</td>\n",
       "      <td>No</td>\n",
       "      <td>Yes</td>\n",
       "      <td>Yes</td>\n",
       "    </tr>\n",
       "    <tr>\n",
       "      <th>3</th>\n",
       "      <td>3680266</td>\n",
       "      <td>2020/08/11</td>\n",
       "      <td>2020/08/05</td>\n",
       "      <td>NaN</td>\n",
       "      <td>Laboratory-confirmed case</td>\n",
       "      <td>Female</td>\n",
       "      <td>80+ Years</td>\n",
       "      <td>Black, Non-Hispanic</td>\n",
       "      <td>Yes</td>\n",
       "      <td>Unknown</td>\n",
       "      <td>Yes</td>\n",
       "      <td>Yes</td>\n",
       "    </tr>\n",
       "    <tr>\n",
       "      <th>4</th>\n",
       "      <td>6264234</td>\n",
       "      <td>2020/04/18</td>\n",
       "      <td>NaN</td>\n",
       "      <td>NaN</td>\n",
       "      <td>Probable Case</td>\n",
       "      <td>Female</td>\n",
       "      <td>50 - 59 Years</td>\n",
       "      <td>Asian, Non-Hispanic</td>\n",
       "      <td>Unknown</td>\n",
       "      <td>Unknown</td>\n",
       "      <td>Yes</td>\n",
       "      <td>Unknown</td>\n",
       "    </tr>\n",
       "  </tbody>\n",
       "</table>\n",
       "</div>"
      ],
      "text/plain": [
       "   Unnamed: 0 cdc_report_dt pos_spec_dt onset_dt             current_status  \\\n",
       "0     3517780    2020/07/22         NaN      NaN  Laboratory-confirmed case   \n",
       "1     3679793    2020/08/07  2020/08/04      NaN  Laboratory-confirmed case   \n",
       "2     3331587    2020/03/31         NaN      NaN  Laboratory-confirmed case   \n",
       "3     3680266    2020/08/11  2020/08/05      NaN  Laboratory-confirmed case   \n",
       "4     6264234    2020/04/18         NaN      NaN              Probable Case   \n",
       "\n",
       "      sex      age_group Race and ethnicity (combined)  hosp_yn   icu_yn  \\\n",
       "0  Female  70 - 79 Years           White, Non-Hispanic      Yes  Missing   \n",
       "1  Female      80+ Years           White, Non-Hispanic      Yes  Unknown   \n",
       "2    Male  70 - 79 Years           White, Non-Hispanic      Yes       No   \n",
       "3  Female      80+ Years           Black, Non-Hispanic      Yes  Unknown   \n",
       "4  Female  50 - 59 Years           Asian, Non-Hispanic  Unknown  Unknown   \n",
       "\n",
       "  death_yn medcond_yn  \n",
       "0      Yes    Missing  \n",
       "1      Yes    Missing  \n",
       "2      Yes        Yes  \n",
       "3      Yes        Yes  \n",
       "4      Yes    Unknown  "
      ]
     },
     "execution_count": 47,
     "metadata": {},
     "output_type": "execute_result"
    }
   ],
   "source": [
    "df.head()"
   ]
  },
  {
   "cell_type": "code",
   "execution_count": 48,
   "id": "43d81f33",
   "metadata": {},
   "outputs": [
    {
     "data": {
      "text/plain": [
       "(184155, 12)"
      ]
     },
     "execution_count": 48,
     "metadata": {},
     "output_type": "execute_result"
    }
   ],
   "source": [
    "df.shape"
   ]
  },
  {
   "cell_type": "code",
   "execution_count": 49,
   "id": "3742979b",
   "metadata": {},
   "outputs": [
    {
     "name": "stdout",
     "output_type": "stream",
     "text": [
      "<class 'pandas.core.frame.DataFrame'>\n",
      "RangeIndex: 184155 entries, 0 to 184154\n",
      "Data columns (total 12 columns):\n",
      " #   Column                         Non-Null Count   Dtype \n",
      "---  ------                         --------------   ----- \n",
      " 0   Unnamed: 0                     184155 non-null  int64 \n",
      " 1   cdc_report_dt                  184155 non-null  object\n",
      " 2   pos_spec_dt                    67144 non-null   object\n",
      " 3   onset_dt                       118445 non-null  object\n",
      " 4   current_status                 184155 non-null  object\n",
      " 5   sex                            184154 non-null  object\n",
      " 6   age_group                      184151 non-null  object\n",
      " 7   Race and ethnicity (combined)  184154 non-null  object\n",
      " 8   hosp_yn                        184155 non-null  object\n",
      " 9   icu_yn                         184155 non-null  object\n",
      " 10  death_yn                       184155 non-null  object\n",
      " 11  medcond_yn                     184155 non-null  object\n",
      "dtypes: int64(1), object(11)\n",
      "memory usage: 16.9+ MB\n"
     ]
    }
   ],
   "source": [
    "df.info()"
   ]
  },
  {
   "cell_type": "code",
   "execution_count": 50,
   "id": "3870d2f5",
   "metadata": {},
   "outputs": [
    {
     "data": {
      "text/plain": [
       "Index(['cdc_report_dt', 'pos_spec_dt', 'onset_dt', 'current_status', 'sex',\n",
       "       'age_group', 'Race and ethnicity (combined)', 'hosp_yn', 'icu_yn',\n",
       "       'death_yn', 'medcond_yn'],\n",
       "      dtype='object')"
      ]
     },
     "execution_count": 50,
     "metadata": {},
     "output_type": "execute_result"
    }
   ],
   "source": [
    "df.dtypes[df.dtypes=='object'].index"
   ]
  },
  {
   "cell_type": "code",
   "execution_count": 51,
   "id": "d5fb6e88",
   "metadata": {},
   "outputs": [
    {
     "data": {
      "text/plain": [
       "Index(['Unnamed: 0'], dtype='object')"
      ]
     },
     "execution_count": 51,
     "metadata": {},
     "output_type": "execute_result"
    }
   ],
   "source": [
    "df.dtypes[df.dtypes!='object'].index"
   ]
  },
  {
   "cell_type": "code",
   "execution_count": 52,
   "id": "3c64d66f",
   "metadata": {},
   "outputs": [],
   "source": [
    "df.drop(columns=['Unnamed: 0'], inplace = True)"
   ]
  },
  {
   "cell_type": "code",
   "execution_count": 53,
   "id": "d443327b",
   "metadata": {},
   "outputs": [
    {
     "data": {
      "text/html": [
       "<div>\n",
       "<style scoped>\n",
       "    .dataframe tbody tr th:only-of-type {\n",
       "        vertical-align: middle;\n",
       "    }\n",
       "\n",
       "    .dataframe tbody tr th {\n",
       "        vertical-align: top;\n",
       "    }\n",
       "\n",
       "    .dataframe thead th {\n",
       "        text-align: right;\n",
       "    }\n",
       "</style>\n",
       "<table border=\"1\" class=\"dataframe\">\n",
       "  <thead>\n",
       "    <tr style=\"text-align: right;\">\n",
       "      <th></th>\n",
       "      <th>cdc_report_dt</th>\n",
       "      <th>pos_spec_dt</th>\n",
       "      <th>onset_dt</th>\n",
       "      <th>current_status</th>\n",
       "      <th>sex</th>\n",
       "      <th>age_group</th>\n",
       "      <th>Race and ethnicity (combined)</th>\n",
       "      <th>hosp_yn</th>\n",
       "      <th>icu_yn</th>\n",
       "      <th>death_yn</th>\n",
       "      <th>medcond_yn</th>\n",
       "    </tr>\n",
       "  </thead>\n",
       "  <tbody>\n",
       "    <tr>\n",
       "      <th>0</th>\n",
       "      <td>2020/07/22</td>\n",
       "      <td>NaN</td>\n",
       "      <td>NaN</td>\n",
       "      <td>Laboratory-confirmed case</td>\n",
       "      <td>Female</td>\n",
       "      <td>70 - 79 Years</td>\n",
       "      <td>White, Non-Hispanic</td>\n",
       "      <td>Yes</td>\n",
       "      <td>Missing</td>\n",
       "      <td>Yes</td>\n",
       "      <td>Missing</td>\n",
       "    </tr>\n",
       "    <tr>\n",
       "      <th>1</th>\n",
       "      <td>2020/08/07</td>\n",
       "      <td>2020/08/04</td>\n",
       "      <td>NaN</td>\n",
       "      <td>Laboratory-confirmed case</td>\n",
       "      <td>Female</td>\n",
       "      <td>80+ Years</td>\n",
       "      <td>White, Non-Hispanic</td>\n",
       "      <td>Yes</td>\n",
       "      <td>Unknown</td>\n",
       "      <td>Yes</td>\n",
       "      <td>Missing</td>\n",
       "    </tr>\n",
       "    <tr>\n",
       "      <th>2</th>\n",
       "      <td>2020/03/31</td>\n",
       "      <td>NaN</td>\n",
       "      <td>NaN</td>\n",
       "      <td>Laboratory-confirmed case</td>\n",
       "      <td>Male</td>\n",
       "      <td>70 - 79 Years</td>\n",
       "      <td>White, Non-Hispanic</td>\n",
       "      <td>Yes</td>\n",
       "      <td>No</td>\n",
       "      <td>Yes</td>\n",
       "      <td>Yes</td>\n",
       "    </tr>\n",
       "    <tr>\n",
       "      <th>3</th>\n",
       "      <td>2020/08/11</td>\n",
       "      <td>2020/08/05</td>\n",
       "      <td>NaN</td>\n",
       "      <td>Laboratory-confirmed case</td>\n",
       "      <td>Female</td>\n",
       "      <td>80+ Years</td>\n",
       "      <td>Black, Non-Hispanic</td>\n",
       "      <td>Yes</td>\n",
       "      <td>Unknown</td>\n",
       "      <td>Yes</td>\n",
       "      <td>Yes</td>\n",
       "    </tr>\n",
       "    <tr>\n",
       "      <th>4</th>\n",
       "      <td>2020/04/18</td>\n",
       "      <td>NaN</td>\n",
       "      <td>NaN</td>\n",
       "      <td>Probable Case</td>\n",
       "      <td>Female</td>\n",
       "      <td>50 - 59 Years</td>\n",
       "      <td>Asian, Non-Hispanic</td>\n",
       "      <td>Unknown</td>\n",
       "      <td>Unknown</td>\n",
       "      <td>Yes</td>\n",
       "      <td>Unknown</td>\n",
       "    </tr>\n",
       "  </tbody>\n",
       "</table>\n",
       "</div>"
      ],
      "text/plain": [
       "  cdc_report_dt pos_spec_dt onset_dt             current_status     sex  \\\n",
       "0    2020/07/22         NaN      NaN  Laboratory-confirmed case  Female   \n",
       "1    2020/08/07  2020/08/04      NaN  Laboratory-confirmed case  Female   \n",
       "2    2020/03/31         NaN      NaN  Laboratory-confirmed case    Male   \n",
       "3    2020/08/11  2020/08/05      NaN  Laboratory-confirmed case  Female   \n",
       "4    2020/04/18         NaN      NaN              Probable Case  Female   \n",
       "\n",
       "       age_group Race and ethnicity (combined)  hosp_yn   icu_yn death_yn  \\\n",
       "0  70 - 79 Years           White, Non-Hispanic      Yes  Missing      Yes   \n",
       "1      80+ Years           White, Non-Hispanic      Yes  Unknown      Yes   \n",
       "2  70 - 79 Years           White, Non-Hispanic      Yes       No      Yes   \n",
       "3      80+ Years           Black, Non-Hispanic      Yes  Unknown      Yes   \n",
       "4  50 - 59 Years           Asian, Non-Hispanic  Unknown  Unknown      Yes   \n",
       "\n",
       "  medcond_yn  \n",
       "0    Missing  \n",
       "1    Missing  \n",
       "2        Yes  \n",
       "3        Yes  \n",
       "4    Unknown  "
      ]
     },
     "execution_count": 53,
     "metadata": {},
     "output_type": "execute_result"
    }
   ],
   "source": [
    "df.head()"
   ]
  },
  {
   "cell_type": "code",
   "execution_count": 54,
   "id": "d543525e",
   "metadata": {},
   "outputs": [],
   "source": [
    "df.rename(columns = {\"Race and ethnicity (combined)\" : \"Race_ethnicity\"}, inplace = True)"
   ]
  },
  {
   "cell_type": "code",
   "execution_count": 55,
   "id": "d07b7cfd",
   "metadata": {},
   "outputs": [],
   "source": [
    "df1 = pd.get_dummies(data=df, columns = [\"Race_ethnicity\"], drop_first=True)"
   ]
  },
  {
   "cell_type": "code",
   "execution_count": 56,
   "id": "750d4822",
   "metadata": {},
   "outputs": [],
   "source": [
    "df1.columns = df1.columns.str.replace(\" \", \"_\")\n",
    "df1.columns = df1.columns.str.replace(\"-\", \"_\")\n",
    "df1.columns = df1.columns.str.replace(\",\", \"_\")\n",
    "df1.columns = df1.columns.str.replace(\"/\", \"_\")"
   ]
  },
  {
   "cell_type": "code",
   "execution_count": 57,
   "id": "7b5837f6",
   "metadata": {},
   "outputs": [
    {
     "data": {
      "text/plain": [
       "Index(['cdc_report_dt', 'pos_spec_dt', 'onset_dt', 'current_status', 'sex',\n",
       "       'age_group', 'hosp_yn', 'icu_yn', 'death_yn', 'medcond_yn',\n",
       "       'Race_ethnicity_Asian__Non_Hispanic',\n",
       "       'Race_ethnicity_Black__Non_Hispanic', 'Race_ethnicity_Hispanic_Latino',\n",
       "       'Race_ethnicity_Missing', 'Race_ethnicity_Multiple_Other__Non_Hispanic',\n",
       "       'Race_ethnicity_Native_Hawaiian_Other_Pacific_Islander__Non_Hispanic',\n",
       "       'Race_ethnicity_Unknown', 'Race_ethnicity_White__Non_Hispanic'],\n",
       "      dtype='object')"
      ]
     },
     "execution_count": 57,
     "metadata": {},
     "output_type": "execute_result"
    }
   ],
   "source": [
    "df1.columns"
   ]
  },
  {
   "cell_type": "code",
   "execution_count": 58,
   "id": "b9af10e4",
   "metadata": {},
   "outputs": [],
   "source": [
    "df1['age_group'] = df1['age_group'].map({'0 - 9 Years': '0 - 19 years',\n",
    "                                      '10 - 19 Years': '0 - 19 years',\n",
    "                                      '20 - 29 Years': '20 - 39 years',\n",
    "                                      '30 - 39 Years': '20 - 39 years',\n",
    "                                      '40 - 49 Years': '40 - 59 years',\n",
    "                                      '50 - 59 Years': '40 - 59 years',\n",
    "                                      '60 - 69 Years': '60+ Years',\n",
    "                                      '70 - 79 Years': '60+ Years',\n",
    "                                      '80+ Years': '60+ Years',\n",
    "                                      'Unknown': 'Unknown'})"
   ]
  },
  {
   "cell_type": "code",
   "execution_count": 59,
   "id": "fd4cfb69",
   "metadata": {},
   "outputs": [
    {
     "data": {
      "text/html": [
       "<div>\n",
       "<style scoped>\n",
       "    .dataframe tbody tr th:only-of-type {\n",
       "        vertical-align: middle;\n",
       "    }\n",
       "\n",
       "    .dataframe tbody tr th {\n",
       "        vertical-align: top;\n",
       "    }\n",
       "\n",
       "    .dataframe thead th {\n",
       "        text-align: right;\n",
       "    }\n",
       "</style>\n",
       "<table border=\"1\" class=\"dataframe\">\n",
       "  <thead>\n",
       "    <tr style=\"text-align: right;\">\n",
       "      <th></th>\n",
       "      <th>cdc_report_dt</th>\n",
       "      <th>pos_spec_dt</th>\n",
       "      <th>onset_dt</th>\n",
       "      <th>current_status</th>\n",
       "      <th>sex</th>\n",
       "      <th>age_group</th>\n",
       "      <th>hosp_yn</th>\n",
       "      <th>icu_yn</th>\n",
       "      <th>death_yn</th>\n",
       "      <th>medcond_yn</th>\n",
       "      <th>Race_ethnicity_Asian__Non_Hispanic</th>\n",
       "      <th>Race_ethnicity_Black__Non_Hispanic</th>\n",
       "      <th>Race_ethnicity_Hispanic_Latino</th>\n",
       "      <th>Race_ethnicity_Missing</th>\n",
       "      <th>Race_ethnicity_Multiple_Other__Non_Hispanic</th>\n",
       "      <th>Race_ethnicity_Native_Hawaiian_Other_Pacific_Islander__Non_Hispanic</th>\n",
       "      <th>Race_ethnicity_Unknown</th>\n",
       "      <th>Race_ethnicity_White__Non_Hispanic</th>\n",
       "    </tr>\n",
       "  </thead>\n",
       "  <tbody>\n",
       "    <tr>\n",
       "      <th>0</th>\n",
       "      <td>2020/07/22</td>\n",
       "      <td>NaN</td>\n",
       "      <td>NaN</td>\n",
       "      <td>Laboratory-confirmed case</td>\n",
       "      <td>Female</td>\n",
       "      <td>60+ Years</td>\n",
       "      <td>Yes</td>\n",
       "      <td>Missing</td>\n",
       "      <td>Yes</td>\n",
       "      <td>Missing</td>\n",
       "      <td>0</td>\n",
       "      <td>0</td>\n",
       "      <td>0</td>\n",
       "      <td>0</td>\n",
       "      <td>0</td>\n",
       "      <td>0</td>\n",
       "      <td>0</td>\n",
       "      <td>1</td>\n",
       "    </tr>\n",
       "    <tr>\n",
       "      <th>1</th>\n",
       "      <td>2020/08/07</td>\n",
       "      <td>2020/08/04</td>\n",
       "      <td>NaN</td>\n",
       "      <td>Laboratory-confirmed case</td>\n",
       "      <td>Female</td>\n",
       "      <td>60+ Years</td>\n",
       "      <td>Yes</td>\n",
       "      <td>Unknown</td>\n",
       "      <td>Yes</td>\n",
       "      <td>Missing</td>\n",
       "      <td>0</td>\n",
       "      <td>0</td>\n",
       "      <td>0</td>\n",
       "      <td>0</td>\n",
       "      <td>0</td>\n",
       "      <td>0</td>\n",
       "      <td>0</td>\n",
       "      <td>1</td>\n",
       "    </tr>\n",
       "    <tr>\n",
       "      <th>2</th>\n",
       "      <td>2020/03/31</td>\n",
       "      <td>NaN</td>\n",
       "      <td>NaN</td>\n",
       "      <td>Laboratory-confirmed case</td>\n",
       "      <td>Male</td>\n",
       "      <td>60+ Years</td>\n",
       "      <td>Yes</td>\n",
       "      <td>No</td>\n",
       "      <td>Yes</td>\n",
       "      <td>Yes</td>\n",
       "      <td>0</td>\n",
       "      <td>0</td>\n",
       "      <td>0</td>\n",
       "      <td>0</td>\n",
       "      <td>0</td>\n",
       "      <td>0</td>\n",
       "      <td>0</td>\n",
       "      <td>1</td>\n",
       "    </tr>\n",
       "    <tr>\n",
       "      <th>3</th>\n",
       "      <td>2020/08/11</td>\n",
       "      <td>2020/08/05</td>\n",
       "      <td>NaN</td>\n",
       "      <td>Laboratory-confirmed case</td>\n",
       "      <td>Female</td>\n",
       "      <td>60+ Years</td>\n",
       "      <td>Yes</td>\n",
       "      <td>Unknown</td>\n",
       "      <td>Yes</td>\n",
       "      <td>Yes</td>\n",
       "      <td>0</td>\n",
       "      <td>1</td>\n",
       "      <td>0</td>\n",
       "      <td>0</td>\n",
       "      <td>0</td>\n",
       "      <td>0</td>\n",
       "      <td>0</td>\n",
       "      <td>0</td>\n",
       "    </tr>\n",
       "    <tr>\n",
       "      <th>4</th>\n",
       "      <td>2020/04/18</td>\n",
       "      <td>NaN</td>\n",
       "      <td>NaN</td>\n",
       "      <td>Probable Case</td>\n",
       "      <td>Female</td>\n",
       "      <td>40 - 59 years</td>\n",
       "      <td>Unknown</td>\n",
       "      <td>Unknown</td>\n",
       "      <td>Yes</td>\n",
       "      <td>Unknown</td>\n",
       "      <td>1</td>\n",
       "      <td>0</td>\n",
       "      <td>0</td>\n",
       "      <td>0</td>\n",
       "      <td>0</td>\n",
       "      <td>0</td>\n",
       "      <td>0</td>\n",
       "      <td>0</td>\n",
       "    </tr>\n",
       "  </tbody>\n",
       "</table>\n",
       "</div>"
      ],
      "text/plain": [
       "  cdc_report_dt pos_spec_dt onset_dt             current_status     sex  \\\n",
       "0    2020/07/22         NaN      NaN  Laboratory-confirmed case  Female   \n",
       "1    2020/08/07  2020/08/04      NaN  Laboratory-confirmed case  Female   \n",
       "2    2020/03/31         NaN      NaN  Laboratory-confirmed case    Male   \n",
       "3    2020/08/11  2020/08/05      NaN  Laboratory-confirmed case  Female   \n",
       "4    2020/04/18         NaN      NaN              Probable Case  Female   \n",
       "\n",
       "       age_group  hosp_yn   icu_yn death_yn medcond_yn  \\\n",
       "0      60+ Years      Yes  Missing      Yes    Missing   \n",
       "1      60+ Years      Yes  Unknown      Yes    Missing   \n",
       "2      60+ Years      Yes       No      Yes        Yes   \n",
       "3      60+ Years      Yes  Unknown      Yes        Yes   \n",
       "4  40 - 59 years  Unknown  Unknown      Yes    Unknown   \n",
       "\n",
       "   Race_ethnicity_Asian__Non_Hispanic  Race_ethnicity_Black__Non_Hispanic  \\\n",
       "0                                   0                                   0   \n",
       "1                                   0                                   0   \n",
       "2                                   0                                   0   \n",
       "3                                   0                                   1   \n",
       "4                                   1                                   0   \n",
       "\n",
       "   Race_ethnicity_Hispanic_Latino  Race_ethnicity_Missing  \\\n",
       "0                               0                       0   \n",
       "1                               0                       0   \n",
       "2                               0                       0   \n",
       "3                               0                       0   \n",
       "4                               0                       0   \n",
       "\n",
       "   Race_ethnicity_Multiple_Other__Non_Hispanic  \\\n",
       "0                                            0   \n",
       "1                                            0   \n",
       "2                                            0   \n",
       "3                                            0   \n",
       "4                                            0   \n",
       "\n",
       "   Race_ethnicity_Native_Hawaiian_Other_Pacific_Islander__Non_Hispanic  \\\n",
       "0                                                  0                     \n",
       "1                                                  0                     \n",
       "2                                                  0                     \n",
       "3                                                  0                     \n",
       "4                                                  0                     \n",
       "\n",
       "   Race_ethnicity_Unknown  Race_ethnicity_White__Non_Hispanic  \n",
       "0                       0                                   1  \n",
       "1                       0                                   1  \n",
       "2                       0                                   1  \n",
       "3                       0                                   0  \n",
       "4                       0                                   0  "
      ]
     },
     "execution_count": 59,
     "metadata": {},
     "output_type": "execute_result"
    }
   ],
   "source": [
    "df1.head()"
   ]
  },
  {
   "cell_type": "code",
   "execution_count": 60,
   "id": "7be5e1e3",
   "metadata": {},
   "outputs": [
    {
     "data": {
      "text/html": [
       "<div>\n",
       "<style scoped>\n",
       "    .dataframe tbody tr th:only-of-type {\n",
       "        vertical-align: middle;\n",
       "    }\n",
       "\n",
       "    .dataframe tbody tr th {\n",
       "        vertical-align: top;\n",
       "    }\n",
       "\n",
       "    .dataframe thead th {\n",
       "        text-align: right;\n",
       "    }\n",
       "</style>\n",
       "<table border=\"1\" class=\"dataframe\">\n",
       "  <thead>\n",
       "    <tr style=\"text-align: right;\">\n",
       "      <th></th>\n",
       "      <th>Variable</th>\n",
       "      <th>percentage</th>\n",
       "    </tr>\n",
       "  </thead>\n",
       "  <tbody>\n",
       "    <tr>\n",
       "      <th>0</th>\n",
       "      <td>cdc_report_dt</td>\n",
       "      <td>0.000000</td>\n",
       "    </tr>\n",
       "    <tr>\n",
       "      <th>1</th>\n",
       "      <td>pos_spec_dt</td>\n",
       "      <td>63.539410</td>\n",
       "    </tr>\n",
       "    <tr>\n",
       "      <th>2</th>\n",
       "      <td>onset_dt</td>\n",
       "      <td>35.681898</td>\n",
       "    </tr>\n",
       "    <tr>\n",
       "      <th>3</th>\n",
       "      <td>current_status</td>\n",
       "      <td>0.000000</td>\n",
       "    </tr>\n",
       "    <tr>\n",
       "      <th>4</th>\n",
       "      <td>sex</td>\n",
       "      <td>0.000543</td>\n",
       "    </tr>\n",
       "    <tr>\n",
       "      <th>5</th>\n",
       "      <td>age_group</td>\n",
       "      <td>0.002172</td>\n",
       "    </tr>\n",
       "    <tr>\n",
       "      <th>6</th>\n",
       "      <td>Race_ethnicity</td>\n",
       "      <td>0.000543</td>\n",
       "    </tr>\n",
       "    <tr>\n",
       "      <th>7</th>\n",
       "      <td>hosp_yn</td>\n",
       "      <td>0.000000</td>\n",
       "    </tr>\n",
       "    <tr>\n",
       "      <th>8</th>\n",
       "      <td>icu_yn</td>\n",
       "      <td>0.000000</td>\n",
       "    </tr>\n",
       "    <tr>\n",
       "      <th>9</th>\n",
       "      <td>death_yn</td>\n",
       "      <td>0.000000</td>\n",
       "    </tr>\n",
       "    <tr>\n",
       "      <th>10</th>\n",
       "      <td>medcond_yn</td>\n",
       "      <td>0.000000</td>\n",
       "    </tr>\n",
       "  </tbody>\n",
       "</table>\n",
       "</div>"
      ],
      "text/plain": [
       "          Variable  percentage\n",
       "0    cdc_report_dt    0.000000\n",
       "1      pos_spec_dt   63.539410\n",
       "2         onset_dt   35.681898\n",
       "3   current_status    0.000000\n",
       "4              sex    0.000543\n",
       "5        age_group    0.002172\n",
       "6   Race_ethnicity    0.000543\n",
       "7          hosp_yn    0.000000\n",
       "8           icu_yn    0.000000\n",
       "9         death_yn    0.000000\n",
       "10      medcond_yn    0.000000"
      ]
     },
     "execution_count": 60,
     "metadata": {},
     "output_type": "execute_result"
    }
   ],
   "source": [
    "b=pd.DataFrame(df.isnull().sum()/184155).reset_index()\n",
    "b.columns=[\"Variable\", \"percentage\"]\n",
    "b[\"percentage\"]=b[\"percentage\"]*100\n",
    "b"
   ]
  },
  {
   "cell_type": "markdown",
   "id": "d33cf289",
   "metadata": {},
   "source": [
    "As per the result we can drop pos_spec_dt column as in this 63% of the data is missing"
   ]
  },
  {
   "cell_type": "code",
   "execution_count": 62,
   "id": "db37bb96",
   "metadata": {},
   "outputs": [
    {
     "data": {
      "text/plain": [
       "cdc_report_dt                                                               0\n",
       "pos_spec_dt                                                            117011\n",
       "onset_dt                                                                65710\n",
       "current_status                                                              0\n",
       "sex                                                                         1\n",
       "age_group                                                                   4\n",
       "hosp_yn                                                                     0\n",
       "icu_yn                                                                      0\n",
       "death_yn                                                                    0\n",
       "medcond_yn                                                                  0\n",
       "Race_ethnicity_Asian__Non_Hispanic                                          0\n",
       "Race_ethnicity_Black__Non_Hispanic                                          0\n",
       "Race_ethnicity_Hispanic_Latino                                              0\n",
       "Race_ethnicity_Missing                                                      0\n",
       "Race_ethnicity_Multiple_Other__Non_Hispanic                                 0\n",
       "Race_ethnicity_Native_Hawaiian_Other_Pacific_Islander__Non_Hispanic         0\n",
       "Race_ethnicity_Unknown                                                      0\n",
       "Race_ethnicity_White__Non_Hispanic                                          0\n",
       "dtype: int64"
      ]
     },
     "execution_count": 62,
     "metadata": {},
     "output_type": "execute_result"
    }
   ],
   "source": [
    "df1.isnull().sum()"
   ]
  },
  {
   "cell_type": "code",
   "execution_count": 63,
   "id": "d03d5613",
   "metadata": {},
   "outputs": [],
   "source": [
    "df1['age_group'] = df1['age_group'].fillna('Unknown')"
   ]
  },
  {
   "cell_type": "code",
   "execution_count": 64,
   "id": "a7f38a2b",
   "metadata": {},
   "outputs": [],
   "source": [
    "df1['sex'] = df1['sex'].fillna('Unknown')"
   ]
  },
  {
   "cell_type": "code",
   "execution_count": 65,
   "id": "550de61e",
   "metadata": {},
   "outputs": [
    {
     "data": {
      "text/plain": [
       "cdc_report_dt                                                               0\n",
       "pos_spec_dt                                                            117011\n",
       "onset_dt                                                                65710\n",
       "current_status                                                              0\n",
       "sex                                                                         0\n",
       "age_group                                                                   0\n",
       "hosp_yn                                                                     0\n",
       "icu_yn                                                                      0\n",
       "death_yn                                                                    0\n",
       "medcond_yn                                                                  0\n",
       "Race_ethnicity_Asian__Non_Hispanic                                          0\n",
       "Race_ethnicity_Black__Non_Hispanic                                          0\n",
       "Race_ethnicity_Hispanic_Latino                                              0\n",
       "Race_ethnicity_Missing                                                      0\n",
       "Race_ethnicity_Multiple_Other__Non_Hispanic                                 0\n",
       "Race_ethnicity_Native_Hawaiian_Other_Pacific_Islander__Non_Hispanic         0\n",
       "Race_ethnicity_Unknown                                                      0\n",
       "Race_ethnicity_White__Non_Hispanic                                          0\n",
       "dtype: int64"
      ]
     },
     "execution_count": 65,
     "metadata": {},
     "output_type": "execute_result"
    }
   ],
   "source": [
    "df1.isnull().sum()"
   ]
  },
  {
   "cell_type": "markdown",
   "id": "dc9e36c2",
   "metadata": {},
   "source": [
    "### UNIVARIATE ANALYSIS"
   ]
  },
  {
   "cell_type": "code",
   "execution_count": 66,
   "id": "f70f95b5",
   "metadata": {},
   "outputs": [],
   "source": [
    "def univariate_cat(data,x):\n",
    "    missing=data[x].isnull().sum()\n",
    "    unique_cnt=data[x].nunique()\n",
    "    unique_cat=list(data[x].unique())\n",
    "    \n",
    "    f1=pd.DataFrame(data[x].value_counts(dropna=False))\n",
    "    f1.rename(columns={x:\"Count\"},inplace=True)\n",
    "    f2=pd.DataFrame(data[x].value_counts(normalize=True))\n",
    "    f2.rename(columns={x:\"Percentage\"},inplace=True)\n",
    "    f2[\"Percentage\"]=(f2[\"Percentage\"]*100).round(2).astype(str)+\" %\"\n",
    "    ff=pd.concat([f1,f2],axis=1)\n",
    "    \n",
    "    print(f\"Total missing values : {missing}\\n\")\n",
    "    print(f\"Total count of unique category : {unique_cnt}\\n\")\n",
    "    print(f\"Unique categories : \\n{unique_cat}\")\n",
    "    print(f\"Value count and %\\n: {ff}\")\n",
    "    \n",
    "    sns.countplot(data=data,x=x)\n",
    "    plt.show()"
   ]
  },
  {
   "cell_type": "code",
   "execution_count": 67,
   "id": "99637db1",
   "metadata": {},
   "outputs": [
    {
     "name": "stdout",
     "output_type": "stream",
     "text": [
      "Total missing values : 0\n",
      "\n",
      "Total count of unique category : 2\n",
      "\n",
      "Unique categories : \n",
      "['Yes', 'No']\n",
      "Value count and %\n",
      ":       Count Percentage\n",
      "No   110724    60.13 %\n",
      "Yes   73431    39.87 %\n"
     ]
    },
    {
     "data": {
      "image/png": "[encoded data removed]",
      "text/plain": [
       "<Figure size 432x288 with 1 Axes>"
      ]
     },
     "metadata": {
      "needs_background": "light"
     },
     "output_type": "display_data"
    }
   ],
   "source": [
    "univariate_cat(data=df1,x='death_yn')"
   ]
  },
  {
   "cell_type": "code",
   "execution_count": 68,
   "id": "b9647191",
   "metadata": {},
   "outputs": [
    {
     "name": "stdout",
     "output_type": "stream",
     "text": [
      "Total missing values : 0\n",
      "\n",
      "Total count of unique category : 4\n",
      "\n",
      "Unique categories : \n",
      "['Yes', 'Unknown', 'Missing', 'No']\n",
      "Value count and %\n",
      ":          Count Percentage\n",
      "No       91217    49.53 %\n",
      "Yes      53384    28.99 %\n",
      "Unknown  20043    10.88 %\n",
      "Missing  19511    10.59 %\n"
     ]
    },
    {
     "data": {
      "image/png": "[encoded data removed]",
      "text/plain": [
       "<Figure size 432x288 with 1 Axes>"
      ]
     },
     "metadata": {
      "needs_background": "light"
     },
     "output_type": "display_data"
    }
   ],
   "source": [
    "univariate_cat(data=df1,x='hosp_yn')"
   ]
  },
  {
   "cell_type": "code",
   "execution_count": 69,
   "id": "05ef875a",
   "metadata": {},
   "outputs": [
    {
     "name": "stdout",
     "output_type": "stream",
     "text": [
      "Total missing values : 0\n",
      "\n",
      "Total count of unique category : 4\n",
      "\n",
      "Unique categories : \n",
      "['Missing', 'Unknown', 'No', 'Yes']\n",
      "Value count and %\n",
      ":           Count Percentage\n",
      "Missing  103731    56.33 %\n",
      "Unknown   42300    22.97 %\n",
      "No        27584    14.98 %\n",
      "Yes       10540     5.72 %\n"
     ]
    },
    {
     "data": {
      "image/png": "[encoded data removed]",
      "text/plain": [
       "<Figure size 432x288 with 1 Axes>"
      ]
     },
     "metadata": {
      "needs_background": "light"
     },
     "output_type": "display_data"
    }
   ],
   "source": [
    "univariate_cat(data=df1,x='icu_yn')"
   ]
  },
  {
   "cell_type": "code",
   "execution_count": 70,
   "id": "3dae27d1",
   "metadata": {},
   "outputs": [
    {
     "name": "stdout",
     "output_type": "stream",
     "text": [
      "Total missing values : 0\n",
      "\n",
      "Total count of unique category : 4\n",
      "\n",
      "Unique categories : \n",
      "['Missing', 'Yes', 'Unknown', 'No']\n",
      "Value count and %\n",
      ":           Count Percentage\n",
      "Missing  101496    55.11 %\n",
      "Yes       42408    23.03 %\n",
      "Unknown   21830    11.85 %\n",
      "No        18421     10.0 %\n"
     ]
    },
    {
     "data": {
      "image/png": "[encoded data removed]",
      "text/plain": [
       "<Figure size 432x288 with 1 Axes>"
      ]
     },
     "metadata": {
      "needs_background": "light"
     },
     "output_type": "display_data"
    }
   ],
   "source": [
    "univariate_cat(data=df1,x='medcond_yn')"
   ]
  },
  {
   "cell_type": "code",
   "execution_count": 71,
   "id": "27c22893",
   "metadata": {},
   "outputs": [
    {
     "name": "stdout",
     "output_type": "stream",
     "text": [
      "Total missing values : 0\n",
      "\n",
      "Total count of unique category : 2\n",
      "\n",
      "Unique categories : \n",
      "['Laboratory-confirmed case', 'Probable Case']\n",
      "Value count and %\n",
      ":                             Count Percentage\n",
      "Laboratory-confirmed case  173359    94.14 %\n",
      "Probable Case               10796     5.86 %\n"
     ]
    },
    {
     "data": {
      "image/png": "[encoded data removed]",
      "text/plain": [
       "<Figure size 432x288 with 1 Axes>"
      ]
     },
     "metadata": {
      "needs_background": "light"
     },
     "output_type": "display_data"
    }
   ],
   "source": [
    "univariate_cat(data=df1,x='current_status')"
   ]
  },
  {
   "cell_type": "markdown",
   "id": "5f1787bd",
   "metadata": {},
   "source": [
    "### converting cdc_report_dt column to datetime format to extract day, year, month, week_of_day etc."
   ]
  },
  {
   "cell_type": "code",
   "execution_count": 78,
   "id": "dee1afa8",
   "metadata": {},
   "outputs": [],
   "source": [
    "df1['cdc_report_dt']= pd.to_datetime(df1['cdc_report_dt'])"
   ]
  },
  {
   "cell_type": "code",
   "execution_count": 99,
   "id": "1573d29f",
   "metadata": {},
   "outputs": [],
   "source": [
    "df1[\"month\"]=df1[\"cdc_report_dt\"].dt.month\n",
    "df1[\"year\"]=df1[\"cdc_report_dt\"].dt.year\n",
    "df1[\"week_of_day\"]=df1[\"cdc_report_dt\"].dt.dayofweek\n",
    "df1[\"day\"]=df1[\"cdc_report_dt\"].dt.day\n",
    "df1[\"hours\"]=df1[\"cdc_report_dt\"].dt.hour\n",
    "df1[\"minute\"]=df1[\"cdc_report_dt\"].dt.minute\n",
    "df1[\"Quarter\"]=df[\"cdc_report_dt\"].dt.quarter"
   ]
  },
  {
   "cell_type": "code",
   "execution_count": 100,
   "id": "b4688266",
   "metadata": {},
   "outputs": [
    {
     "data": {
      "text/plain": [
       "2    37372\n",
       "1    29241\n",
       "0    27831\n",
       "3    24210\n",
       "6    22150\n",
       "4    21904\n",
       "5    21447\n",
       "Name: week_of_day, dtype: int64"
      ]
     },
     "execution_count": 100,
     "metadata": {},
     "output_type": "execute_result"
    }
   ],
   "source": [
    "df1['week_of_day'].value_counts()"
   ]
  },
  {
   "cell_type": "code",
   "execution_count": 101,
   "id": "2fb946d4",
   "metadata": {},
   "outputs": [],
   "source": [
    "df1[\"isweekend\"]=np.where(df1[\"week_of_day\"].isin([5,6]),1,0)   #combined 5,6 as one category i.e weekend"
   ]
  },
  {
   "cell_type": "code",
   "execution_count": 102,
   "id": "9b7dd311",
   "metadata": {},
   "outputs": [
    {
     "data": {
      "text/plain": [
       "0    140558\n",
       "1     43597\n",
       "Name: isweekend, dtype: int64"
      ]
     },
     "execution_count": 102,
     "metadata": {},
     "output_type": "execute_result"
    }
   ],
   "source": [
    "df1['isweekend'].value_counts()"
   ]
  },
  {
   "cell_type": "code",
   "execution_count": 103,
   "id": "24f59687",
   "metadata": {},
   "outputs": [],
   "source": [
    "def day_cat(x):\n",
    "    if x<=10:\n",
    "        return \"starting_of_month\"\n",
    "    elif x>10 and x<=20:\n",
    "        return \"mid_of_month\"\n",
    "    else:\n",
    "        return \"End_of_month\"\n",
    "df1[\"day_cat\"]=df1[\"day\"].apply(lambda a : day_cat(a))"
   ]
  },
  {
   "cell_type": "code",
   "execution_count": 104,
   "id": "04fb089c",
   "metadata": {},
   "outputs": [
    {
     "data": {
      "text/plain": [
       "mid_of_month         62961\n",
       "starting_of_month    61577\n",
       "End_of_month         59617\n",
       "Name: day_cat, dtype: int64"
      ]
     },
     "execution_count": 104,
     "metadata": {},
     "output_type": "execute_result"
    }
   ],
   "source": [
    "df1[\"day_cat\"].value_counts()"
   ]
  },
  {
   "cell_type": "code",
   "execution_count": 105,
   "id": "80cefbf2",
   "metadata": {},
   "outputs": [
    {
     "data": {
      "text/plain": [
       "2    67216\n",
       "3    61716\n",
       "4    49737\n",
       "1     5486\n",
       "Name: Quarter, dtype: int64"
      ]
     },
     "execution_count": 105,
     "metadata": {},
     "output_type": "execute_result"
    }
   ],
   "source": [
    "df1['Quarter'].value_counts()"
   ]
  },
  {
   "cell_type": "code",
   "execution_count": 106,
   "id": "705d0979",
   "metadata": {},
   "outputs": [],
   "source": [
    "def death(x):\n",
    "    if x=='Yes':\n",
    "        return \"1\"\n",
    "    elif x=='No':\n",
    "        return \"0\"\n",
    "    else:\n",
    "        return \"others\"\n",
    "df1[\"death\"]=df1[\"death_yn\"].apply(lambda a : death(a))"
   ]
  },
  {
   "cell_type": "code",
   "execution_count": 107,
   "id": "a38e4681",
   "metadata": {},
   "outputs": [
    {
     "data": {
      "text/plain": [
       "0    110724\n",
       "1     73431\n",
       "Name: death, dtype: int64"
      ]
     },
     "execution_count": 107,
     "metadata": {},
     "output_type": "execute_result"
    }
   ],
   "source": [
    "df1['death'].value_counts()"
   ]
  },
  {
   "cell_type": "markdown",
   "id": "5f521be7",
   "metadata": {},
   "source": [
    "### DROPING COLUMNS"
   ]
  },
  {
   "cell_type": "code",
   "execution_count": 95,
   "id": "45711991",
   "metadata": {},
   "outputs": [],
   "source": [
    "df1.drop(columns=['pos_spec_dt', 'onset_dt'], inplace = True)"
   ]
  },
  {
   "cell_type": "code",
   "execution_count": 109,
   "id": "759e5c92",
   "metadata": {},
   "outputs": [],
   "source": [
    "df1.drop(columns=['death_yn'], inplace = True)"
   ]
  },
  {
   "cell_type": "code",
   "execution_count": 115,
   "id": "2e997c1c",
   "metadata": {},
   "outputs": [],
   "source": [
    "df1.drop(columns=['cdc_report_dt'], inplace = True)"
   ]
  },
  {
   "cell_type": "markdown",
   "id": "8b6aba52",
   "metadata": {},
   "source": [
    "### COMBINING COLUMNS"
   ]
  },
  {
   "cell_type": "code",
   "execution_count": 113,
   "id": "34320c19",
   "metadata": {},
   "outputs": [],
   "source": [
    "df1['icu_yn']=df1['icu_yn'].replace(['Unkown','Missing'],'Unknown')\n",
    "df1['hosp_yn']=df1['hosp_yn'].replace(['Unkown','Missing'],'Unknown')\n",
    "df1['medcond_yn']=df1['medcond_yn'].replace(['Unkown','Missing'],'Unknown')"
   ]
  },
  {
   "cell_type": "code",
   "execution_count": 116,
   "id": "32d8f3cf",
   "metadata": {},
   "outputs": [
    {
     "data": {
      "text/html": [
       "<div>\n",
       "<style scoped>\n",
       "    .dataframe tbody tr th:only-of-type {\n",
       "        vertical-align: middle;\n",
       "    }\n",
       "\n",
       "    .dataframe tbody tr th {\n",
       "        vertical-align: top;\n",
       "    }\n",
       "\n",
       "    .dataframe thead th {\n",
       "        text-align: right;\n",
       "    }\n",
       "</style>\n",
       "<table border=\"1\" class=\"dataframe\">\n",
       "  <thead>\n",
       "    <tr style=\"text-align: right;\">\n",
       "      <th></th>\n",
       "      <th>current_status</th>\n",
       "      <th>sex</th>\n",
       "      <th>age_group</th>\n",
       "      <th>hosp_yn</th>\n",
       "      <th>icu_yn</th>\n",
       "      <th>medcond_yn</th>\n",
       "      <th>Race_ethnicity_Asian__Non_Hispanic</th>\n",
       "      <th>Race_ethnicity_Black__Non_Hispanic</th>\n",
       "      <th>Race_ethnicity_Hispanic_Latino</th>\n",
       "      <th>Race_ethnicity_Missing</th>\n",
       "      <th>...</th>\n",
       "      <th>month</th>\n",
       "      <th>year</th>\n",
       "      <th>week_of_day</th>\n",
       "      <th>day</th>\n",
       "      <th>hours</th>\n",
       "      <th>minute</th>\n",
       "      <th>isweekend</th>\n",
       "      <th>day_cat</th>\n",
       "      <th>Quarter</th>\n",
       "      <th>death</th>\n",
       "    </tr>\n",
       "  </thead>\n",
       "  <tbody>\n",
       "    <tr>\n",
       "      <th>0</th>\n",
       "      <td>Laboratory-confirmed case</td>\n",
       "      <td>Female</td>\n",
       "      <td>60+ Years</td>\n",
       "      <td>Yes</td>\n",
       "      <td>Unknown</td>\n",
       "      <td>Unknown</td>\n",
       "      <td>0</td>\n",
       "      <td>0</td>\n",
       "      <td>0</td>\n",
       "      <td>0</td>\n",
       "      <td>...</td>\n",
       "      <td>7</td>\n",
       "      <td>2020</td>\n",
       "      <td>2</td>\n",
       "      <td>22</td>\n",
       "      <td>0</td>\n",
       "      <td>0</td>\n",
       "      <td>0</td>\n",
       "      <td>End_of_month</td>\n",
       "      <td>3</td>\n",
       "      <td>1</td>\n",
       "    </tr>\n",
       "    <tr>\n",
       "      <th>1</th>\n",
       "      <td>Laboratory-confirmed case</td>\n",
       "      <td>Female</td>\n",
       "      <td>60+ Years</td>\n",
       "      <td>Yes</td>\n",
       "      <td>Unknown</td>\n",
       "      <td>Unknown</td>\n",
       "      <td>0</td>\n",
       "      <td>0</td>\n",
       "      <td>0</td>\n",
       "      <td>0</td>\n",
       "      <td>...</td>\n",
       "      <td>8</td>\n",
       "      <td>2020</td>\n",
       "      <td>4</td>\n",
       "      <td>7</td>\n",
       "      <td>0</td>\n",
       "      <td>0</td>\n",
       "      <td>0</td>\n",
       "      <td>starting_of_month</td>\n",
       "      <td>3</td>\n",
       "      <td>1</td>\n",
       "    </tr>\n",
       "    <tr>\n",
       "      <th>2</th>\n",
       "      <td>Laboratory-confirmed case</td>\n",
       "      <td>Male</td>\n",
       "      <td>60+ Years</td>\n",
       "      <td>Yes</td>\n",
       "      <td>No</td>\n",
       "      <td>Yes</td>\n",
       "      <td>0</td>\n",
       "      <td>0</td>\n",
       "      <td>0</td>\n",
       "      <td>0</td>\n",
       "      <td>...</td>\n",
       "      <td>3</td>\n",
       "      <td>2020</td>\n",
       "      <td>1</td>\n",
       "      <td>31</td>\n",
       "      <td>0</td>\n",
       "      <td>0</td>\n",
       "      <td>0</td>\n",
       "      <td>End_of_month</td>\n",
       "      <td>1</td>\n",
       "      <td>1</td>\n",
       "    </tr>\n",
       "    <tr>\n",
       "      <th>3</th>\n",
       "      <td>Laboratory-confirmed case</td>\n",
       "      <td>Female</td>\n",
       "      <td>60+ Years</td>\n",
       "      <td>Yes</td>\n",
       "      <td>Unknown</td>\n",
       "      <td>Yes</td>\n",
       "      <td>0</td>\n",
       "      <td>1</td>\n",
       "      <td>0</td>\n",
       "      <td>0</td>\n",
       "      <td>...</td>\n",
       "      <td>8</td>\n",
       "      <td>2020</td>\n",
       "      <td>1</td>\n",
       "      <td>11</td>\n",
       "      <td>0</td>\n",
       "      <td>0</td>\n",
       "      <td>0</td>\n",
       "      <td>mid_of_month</td>\n",
       "      <td>3</td>\n",
       "      <td>1</td>\n",
       "    </tr>\n",
       "    <tr>\n",
       "      <th>4</th>\n",
       "      <td>Probable Case</td>\n",
       "      <td>Female</td>\n",
       "      <td>40 - 59 years</td>\n",
       "      <td>Unknown</td>\n",
       "      <td>Unknown</td>\n",
       "      <td>Unknown</td>\n",
       "      <td>1</td>\n",
       "      <td>0</td>\n",
       "      <td>0</td>\n",
       "      <td>0</td>\n",
       "      <td>...</td>\n",
       "      <td>4</td>\n",
       "      <td>2020</td>\n",
       "      <td>5</td>\n",
       "      <td>18</td>\n",
       "      <td>0</td>\n",
       "      <td>0</td>\n",
       "      <td>1</td>\n",
       "      <td>mid_of_month</td>\n",
       "      <td>2</td>\n",
       "      <td>1</td>\n",
       "    </tr>\n",
       "  </tbody>\n",
       "</table>\n",
       "<p>5 rows × 24 columns</p>\n",
       "</div>"
      ],
      "text/plain": [
       "              current_status     sex      age_group  hosp_yn   icu_yn  \\\n",
       "0  Laboratory-confirmed case  Female      60+ Years      Yes  Unknown   \n",
       "1  Laboratory-confirmed case  Female      60+ Years      Yes  Unknown   \n",
       "2  Laboratory-confirmed case    Male      60+ Years      Yes       No   \n",
       "3  Laboratory-confirmed case  Female      60+ Years      Yes  Unknown   \n",
       "4              Probable Case  Female  40 - 59 years  Unknown  Unknown   \n",
       "\n",
       "  medcond_yn  Race_ethnicity_Asian__Non_Hispanic  \\\n",
       "0    Unknown                                   0   \n",
       "1    Unknown                                   0   \n",
       "2        Yes                                   0   \n",
       "3        Yes                                   0   \n",
       "4    Unknown                                   1   \n",
       "\n",
       "   Race_ethnicity_Black__Non_Hispanic  Race_ethnicity_Hispanic_Latino  \\\n",
       "0                                   0                               0   \n",
       "1                                   0                               0   \n",
       "2                                   0                               0   \n",
       "3                                   1                               0   \n",
       "4                                   0                               0   \n",
       "\n",
       "   Race_ethnicity_Missing  ...  month  year  week_of_day  day  hours  minute  \\\n",
       "0                       0  ...      7  2020            2   22      0       0   \n",
       "1                       0  ...      8  2020            4    7      0       0   \n",
       "2                       0  ...      3  2020            1   31      0       0   \n",
       "3                       0  ...      8  2020            1   11      0       0   \n",
       "4                       0  ...      4  2020            5   18      0       0   \n",
       "\n",
       "   isweekend            day_cat  Quarter  death  \n",
       "0          0       End_of_month        3      1  \n",
       "1          0  starting_of_month        3      1  \n",
       "2          0       End_of_month        1      1  \n",
       "3          0       mid_of_month        3      1  \n",
       "4          1       mid_of_month        2      1  \n",
       "\n",
       "[5 rows x 24 columns]"
      ]
     },
     "execution_count": 116,
     "metadata": {},
     "output_type": "execute_result"
    }
   ],
   "source": [
    "df1.head()"
   ]
  },
  {
   "cell_type": "code",
   "execution_count": 118,
   "id": "339b1c7b",
   "metadata": {},
   "outputs": [
    {
     "data": {
      "text/plain": [
       "current_status                                                         object\n",
       "sex                                                                    object\n",
       "age_group                                                              object\n",
       "hosp_yn                                                                object\n",
       "icu_yn                                                                 object\n",
       "medcond_yn                                                             object\n",
       "Race_ethnicity_Asian__Non_Hispanic                                      uint8\n",
       "Race_ethnicity_Black__Non_Hispanic                                      uint8\n",
       "Race_ethnicity_Hispanic_Latino                                          uint8\n",
       "Race_ethnicity_Missing                                                  uint8\n",
       "Race_ethnicity_Multiple_Other__Non_Hispanic                             uint8\n",
       "Race_ethnicity_Native_Hawaiian_Other_Pacific_Islander__Non_Hispanic     uint8\n",
       "Race_ethnicity_Unknown                                                  uint8\n",
       "Race_ethnicity_White__Non_Hispanic                                      uint8\n",
       "month                                                                   int64\n",
       "year                                                                    int64\n",
       "week_of_day                                                             int64\n",
       "day                                                                     int64\n",
       "hours                                                                   int64\n",
       "minute                                                                  int64\n",
       "isweekend                                                               int32\n",
       "day_cat                                                                object\n",
       "Quarter                                                                 int64\n",
       "death                                                                  object\n",
       "dtype: object"
      ]
     },
     "execution_count": 118,
     "metadata": {},
     "output_type": "execute_result"
    }
   ],
   "source": [
    "df1.dtypes"
   ]
  },
  {
   "cell_type": "code",
   "execution_count": 119,
   "id": "d139544e",
   "metadata": {},
   "outputs": [],
   "source": [
    "obj_var=df1.dtypes[df1.dtypes=='object'].index\n",
    "num_var=df1.dtypes[df1.dtypes!='object'].index"
   ]
  },
  {
   "cell_type": "code",
   "execution_count": 120,
   "id": "c51d5639",
   "metadata": {},
   "outputs": [],
   "source": [
    "df1_num = df1[num_var]\n",
    "df1_obj = df1[obj_var]"
   ]
  },
  {
   "cell_type": "code",
   "execution_count": 121,
   "id": "de3f8f91",
   "metadata": {},
   "outputs": [],
   "source": [
    "df_final=pd.concat([df1_num, df1_obj], axis=1)"
   ]
  },
  {
   "cell_type": "code",
   "execution_count": 122,
   "id": "7760e97f",
   "metadata": {},
   "outputs": [
    {
     "data": {
      "text/html": [
       "<div>\n",
       "<style scoped>\n",
       "    .dataframe tbody tr th:only-of-type {\n",
       "        vertical-align: middle;\n",
       "    }\n",
       "\n",
       "    .dataframe tbody tr th {\n",
       "        vertical-align: top;\n",
       "    }\n",
       "\n",
       "    .dataframe thead th {\n",
       "        text-align: right;\n",
       "    }\n",
       "</style>\n",
       "<table border=\"1\" class=\"dataframe\">\n",
       "  <thead>\n",
       "    <tr style=\"text-align: right;\">\n",
       "      <th></th>\n",
       "      <th>Race_ethnicity_Asian__Non_Hispanic</th>\n",
       "      <th>Race_ethnicity_Black__Non_Hispanic</th>\n",
       "      <th>Race_ethnicity_Hispanic_Latino</th>\n",
       "      <th>Race_ethnicity_Missing</th>\n",
       "      <th>Race_ethnicity_Multiple_Other__Non_Hispanic</th>\n",
       "      <th>Race_ethnicity_Native_Hawaiian_Other_Pacific_Islander__Non_Hispanic</th>\n",
       "      <th>Race_ethnicity_Unknown</th>\n",
       "      <th>Race_ethnicity_White__Non_Hispanic</th>\n",
       "      <th>month</th>\n",
       "      <th>year</th>\n",
       "      <th>...</th>\n",
       "      <th>isweekend</th>\n",
       "      <th>Quarter</th>\n",
       "      <th>current_status</th>\n",
       "      <th>sex</th>\n",
       "      <th>age_group</th>\n",
       "      <th>hosp_yn</th>\n",
       "      <th>icu_yn</th>\n",
       "      <th>medcond_yn</th>\n",
       "      <th>day_cat</th>\n",
       "      <th>death</th>\n",
       "    </tr>\n",
       "  </thead>\n",
       "  <tbody>\n",
       "    <tr>\n",
       "      <th>0</th>\n",
       "      <td>0</td>\n",
       "      <td>0</td>\n",
       "      <td>0</td>\n",
       "      <td>0</td>\n",
       "      <td>0</td>\n",
       "      <td>0</td>\n",
       "      <td>0</td>\n",
       "      <td>1</td>\n",
       "      <td>7</td>\n",
       "      <td>2020</td>\n",
       "      <td>...</td>\n",
       "      <td>0</td>\n",
       "      <td>3</td>\n",
       "      <td>Laboratory-confirmed case</td>\n",
       "      <td>Female</td>\n",
       "      <td>60+ Years</td>\n",
       "      <td>Yes</td>\n",
       "      <td>Unknown</td>\n",
       "      <td>Unknown</td>\n",
       "      <td>End_of_month</td>\n",
       "      <td>1</td>\n",
       "    </tr>\n",
       "    <tr>\n",
       "      <th>1</th>\n",
       "      <td>0</td>\n",
       "      <td>0</td>\n",
       "      <td>0</td>\n",
       "      <td>0</td>\n",
       "      <td>0</td>\n",
       "      <td>0</td>\n",
       "      <td>0</td>\n",
       "      <td>1</td>\n",
       "      <td>8</td>\n",
       "      <td>2020</td>\n",
       "      <td>...</td>\n",
       "      <td>0</td>\n",
       "      <td>3</td>\n",
       "      <td>Laboratory-confirmed case</td>\n",
       "      <td>Female</td>\n",
       "      <td>60+ Years</td>\n",
       "      <td>Yes</td>\n",
       "      <td>Unknown</td>\n",
       "      <td>Unknown</td>\n",
       "      <td>starting_of_month</td>\n",
       "      <td>1</td>\n",
       "    </tr>\n",
       "    <tr>\n",
       "      <th>2</th>\n",
       "      <td>0</td>\n",
       "      <td>0</td>\n",
       "      <td>0</td>\n",
       "      <td>0</td>\n",
       "      <td>0</td>\n",
       "      <td>0</td>\n",
       "      <td>0</td>\n",
       "      <td>1</td>\n",
       "      <td>3</td>\n",
       "      <td>2020</td>\n",
       "      <td>...</td>\n",
       "      <td>0</td>\n",
       "      <td>1</td>\n",
       "      <td>Laboratory-confirmed case</td>\n",
       "      <td>Male</td>\n",
       "      <td>60+ Years</td>\n",
       "      <td>Yes</td>\n",
       "      <td>No</td>\n",
       "      <td>Yes</td>\n",
       "      <td>End_of_month</td>\n",
       "      <td>1</td>\n",
       "    </tr>\n",
       "    <tr>\n",
       "      <th>3</th>\n",
       "      <td>0</td>\n",
       "      <td>1</td>\n",
       "      <td>0</td>\n",
       "      <td>0</td>\n",
       "      <td>0</td>\n",
       "      <td>0</td>\n",
       "      <td>0</td>\n",
       "      <td>0</td>\n",
       "      <td>8</td>\n",
       "      <td>2020</td>\n",
       "      <td>...</td>\n",
       "      <td>0</td>\n",
       "      <td>3</td>\n",
       "      <td>Laboratory-confirmed case</td>\n",
       "      <td>Female</td>\n",
       "      <td>60+ Years</td>\n",
       "      <td>Yes</td>\n",
       "      <td>Unknown</td>\n",
       "      <td>Yes</td>\n",
       "      <td>mid_of_month</td>\n",
       "      <td>1</td>\n",
       "    </tr>\n",
       "    <tr>\n",
       "      <th>4</th>\n",
       "      <td>1</td>\n",
       "      <td>0</td>\n",
       "      <td>0</td>\n",
       "      <td>0</td>\n",
       "      <td>0</td>\n",
       "      <td>0</td>\n",
       "      <td>0</td>\n",
       "      <td>0</td>\n",
       "      <td>4</td>\n",
       "      <td>2020</td>\n",
       "      <td>...</td>\n",
       "      <td>1</td>\n",
       "      <td>2</td>\n",
       "      <td>Probable Case</td>\n",
       "      <td>Female</td>\n",
       "      <td>40 - 59 years</td>\n",
       "      <td>Unknown</td>\n",
       "      <td>Unknown</td>\n",
       "      <td>Unknown</td>\n",
       "      <td>mid_of_month</td>\n",
       "      <td>1</td>\n",
       "    </tr>\n",
       "    <tr>\n",
       "      <th>...</th>\n",
       "      <td>...</td>\n",
       "      <td>...</td>\n",
       "      <td>...</td>\n",
       "      <td>...</td>\n",
       "      <td>...</td>\n",
       "      <td>...</td>\n",
       "      <td>...</td>\n",
       "      <td>...</td>\n",
       "      <td>...</td>\n",
       "      <td>...</td>\n",
       "      <td>...</td>\n",
       "      <td>...</td>\n",
       "      <td>...</td>\n",
       "      <td>...</td>\n",
       "      <td>...</td>\n",
       "      <td>...</td>\n",
       "      <td>...</td>\n",
       "      <td>...</td>\n",
       "      <td>...</td>\n",
       "      <td>...</td>\n",
       "      <td>...</td>\n",
       "    </tr>\n",
       "    <tr>\n",
       "      <th>184150</th>\n",
       "      <td>0</td>\n",
       "      <td>0</td>\n",
       "      <td>0</td>\n",
       "      <td>0</td>\n",
       "      <td>0</td>\n",
       "      <td>0</td>\n",
       "      <td>0</td>\n",
       "      <td>1</td>\n",
       "      <td>9</td>\n",
       "      <td>2020</td>\n",
       "      <td>...</td>\n",
       "      <td>0</td>\n",
       "      <td>3</td>\n",
       "      <td>Laboratory-confirmed case</td>\n",
       "      <td>Male</td>\n",
       "      <td>0 - 19 years</td>\n",
       "      <td>No</td>\n",
       "      <td>Unknown</td>\n",
       "      <td>Unknown</td>\n",
       "      <td>starting_of_month</td>\n",
       "      <td>0</td>\n",
       "    </tr>\n",
       "    <tr>\n",
       "      <th>184151</th>\n",
       "      <td>0</td>\n",
       "      <td>0</td>\n",
       "      <td>1</td>\n",
       "      <td>0</td>\n",
       "      <td>0</td>\n",
       "      <td>0</td>\n",
       "      <td>0</td>\n",
       "      <td>0</td>\n",
       "      <td>6</td>\n",
       "      <td>2020</td>\n",
       "      <td>...</td>\n",
       "      <td>0</td>\n",
       "      <td>2</td>\n",
       "      <td>Laboratory-confirmed case</td>\n",
       "      <td>Male</td>\n",
       "      <td>60+ Years</td>\n",
       "      <td>No</td>\n",
       "      <td>Unknown</td>\n",
       "      <td>Unknown</td>\n",
       "      <td>End_of_month</td>\n",
       "      <td>0</td>\n",
       "    </tr>\n",
       "    <tr>\n",
       "      <th>184152</th>\n",
       "      <td>1</td>\n",
       "      <td>0</td>\n",
       "      <td>0</td>\n",
       "      <td>0</td>\n",
       "      <td>0</td>\n",
       "      <td>0</td>\n",
       "      <td>0</td>\n",
       "      <td>0</td>\n",
       "      <td>8</td>\n",
       "      <td>2020</td>\n",
       "      <td>...</td>\n",
       "      <td>0</td>\n",
       "      <td>3</td>\n",
       "      <td>Laboratory-confirmed case</td>\n",
       "      <td>Male</td>\n",
       "      <td>40 - 59 years</td>\n",
       "      <td>No</td>\n",
       "      <td>Unknown</td>\n",
       "      <td>Unknown</td>\n",
       "      <td>starting_of_month</td>\n",
       "      <td>0</td>\n",
       "    </tr>\n",
       "    <tr>\n",
       "      <th>184153</th>\n",
       "      <td>0</td>\n",
       "      <td>0</td>\n",
       "      <td>0</td>\n",
       "      <td>0</td>\n",
       "      <td>0</td>\n",
       "      <td>0</td>\n",
       "      <td>1</td>\n",
       "      <td>0</td>\n",
       "      <td>5</td>\n",
       "      <td>2020</td>\n",
       "      <td>...</td>\n",
       "      <td>0</td>\n",
       "      <td>2</td>\n",
       "      <td>Laboratory-confirmed case</td>\n",
       "      <td>Male</td>\n",
       "      <td>60+ Years</td>\n",
       "      <td>Unknown</td>\n",
       "      <td>Unknown</td>\n",
       "      <td>Unknown</td>\n",
       "      <td>End_of_month</td>\n",
       "      <td>0</td>\n",
       "    </tr>\n",
       "    <tr>\n",
       "      <th>184154</th>\n",
       "      <td>0</td>\n",
       "      <td>1</td>\n",
       "      <td>0</td>\n",
       "      <td>0</td>\n",
       "      <td>0</td>\n",
       "      <td>0</td>\n",
       "      <td>0</td>\n",
       "      <td>0</td>\n",
       "      <td>8</td>\n",
       "      <td>2020</td>\n",
       "      <td>...</td>\n",
       "      <td>0</td>\n",
       "      <td>3</td>\n",
       "      <td>Laboratory-confirmed case</td>\n",
       "      <td>Female</td>\n",
       "      <td>60+ Years</td>\n",
       "      <td>No</td>\n",
       "      <td>Unknown</td>\n",
       "      <td>Unknown</td>\n",
       "      <td>mid_of_month</td>\n",
       "      <td>0</td>\n",
       "    </tr>\n",
       "  </tbody>\n",
       "</table>\n",
       "<p>184155 rows × 24 columns</p>\n",
       "</div>"
      ],
      "text/plain": [
       "        Race_ethnicity_Asian__Non_Hispanic  \\\n",
       "0                                        0   \n",
       "1                                        0   \n",
       "2                                        0   \n",
       "3                                        0   \n",
       "4                                        1   \n",
       "...                                    ...   \n",
       "184150                                   0   \n",
       "184151                                   0   \n",
       "184152                                   1   \n",
       "184153                                   0   \n",
       "184154                                   0   \n",
       "\n",
       "        Race_ethnicity_Black__Non_Hispanic  Race_ethnicity_Hispanic_Latino  \\\n",
       "0                                        0                               0   \n",
       "1                                        0                               0   \n",
       "2                                        0                               0   \n",
       "3                                        1                               0   \n",
       "4                                        0                               0   \n",
       "...                                    ...                             ...   \n",
       "184150                                   0                               0   \n",
       "184151                                   0                               1   \n",
       "184152                                   0                               0   \n",
       "184153                                   0                               0   \n",
       "184154                                   1                               0   \n",
       "\n",
       "        Race_ethnicity_Missing  Race_ethnicity_Multiple_Other__Non_Hispanic  \\\n",
       "0                            0                                            0   \n",
       "1                            0                                            0   \n",
       "2                            0                                            0   \n",
       "3                            0                                            0   \n",
       "4                            0                                            0   \n",
       "...                        ...                                          ...   \n",
       "184150                       0                                            0   \n",
       "184151                       0                                            0   \n",
       "184152                       0                                            0   \n",
       "184153                       0                                            0   \n",
       "184154                       0                                            0   \n",
       "\n",
       "        Race_ethnicity_Native_Hawaiian_Other_Pacific_Islander__Non_Hispanic  \\\n",
       "0                                                       0                     \n",
       "1                                                       0                     \n",
       "2                                                       0                     \n",
       "3                                                       0                     \n",
       "4                                                       0                     \n",
       "...                                                   ...                     \n",
       "184150                                                  0                     \n",
       "184151                                                  0                     \n",
       "184152                                                  0                     \n",
       "184153                                                  0                     \n",
       "184154                                                  0                     \n",
       "\n",
       "        Race_ethnicity_Unknown  Race_ethnicity_White__Non_Hispanic  month  \\\n",
       "0                            0                                   1      7   \n",
       "1                            0                                   1      8   \n",
       "2                            0                                   1      3   \n",
       "3                            0                                   0      8   \n",
       "4                            0                                   0      4   \n",
       "...                        ...                                 ...    ...   \n",
       "184150                       0                                   1      9   \n",
       "184151                       0                                   0      6   \n",
       "184152                       0                                   0      8   \n",
       "184153                       1                                   0      5   \n",
       "184154                       0                                   0      8   \n",
       "\n",
       "        year  ...  isweekend  Quarter             current_status     sex  \\\n",
       "0       2020  ...          0        3  Laboratory-confirmed case  Female   \n",
       "1       2020  ...          0        3  Laboratory-confirmed case  Female   \n",
       "2       2020  ...          0        1  Laboratory-confirmed case    Male   \n",
       "3       2020  ...          0        3  Laboratory-confirmed case  Female   \n",
       "4       2020  ...          1        2              Probable Case  Female   \n",
       "...      ...  ...        ...      ...                        ...     ...   \n",
       "184150  2020  ...          0        3  Laboratory-confirmed case    Male   \n",
       "184151  2020  ...          0        2  Laboratory-confirmed case    Male   \n",
       "184152  2020  ...          0        3  Laboratory-confirmed case    Male   \n",
       "184153  2020  ...          0        2  Laboratory-confirmed case    Male   \n",
       "184154  2020  ...          0        3  Laboratory-confirmed case  Female   \n",
       "\n",
       "            age_group  hosp_yn   icu_yn medcond_yn            day_cat death  \n",
       "0           60+ Years      Yes  Unknown    Unknown       End_of_month     1  \n",
       "1           60+ Years      Yes  Unknown    Unknown  starting_of_month     1  \n",
       "2           60+ Years      Yes       No        Yes       End_of_month     1  \n",
       "3           60+ Years      Yes  Unknown        Yes       mid_of_month     1  \n",
       "4       40 - 59 years  Unknown  Unknown    Unknown       mid_of_month     1  \n",
       "...               ...      ...      ...        ...                ...   ...  \n",
       "184150   0 - 19 years       No  Unknown    Unknown  starting_of_month     0  \n",
       "184151      60+ Years       No  Unknown    Unknown       End_of_month     0  \n",
       "184152  40 - 59 years       No  Unknown    Unknown  starting_of_month     0  \n",
       "184153      60+ Years  Unknown  Unknown    Unknown       End_of_month     0  \n",
       "184154      60+ Years       No  Unknown    Unknown       mid_of_month     0  \n",
       "\n",
       "[184155 rows x 24 columns]"
      ]
     },
     "execution_count": 122,
     "metadata": {},
     "output_type": "execute_result"
    }
   ],
   "source": [
    "df_final"
   ]
  },
  {
   "cell_type": "code",
   "execution_count": 123,
   "id": "ce5f4a4e",
   "metadata": {},
   "outputs": [
    {
     "data": {
      "text/plain": [
       "<AxesSubplot:>"
      ]
     },
     "execution_count": 123,
     "metadata": {},
     "output_type": "execute_result"
    },
    {
     "data": {
      "image/png": "[encoded data removed]",
      "text/plain": [
       "<Figure size 792x432 with 2 Axes>"
      ]
     },
     "metadata": {
      "needs_background": "light"
     },
     "output_type": "display_data"
    }
   ],
   "source": [
    "cr = df_final.corr()\n",
    "cr=cr[abs(cr)>.7]\n",
    "plt.figure(figsize=(11,6))\n",
    "sns.heatmap(cr, annot=True, cmap = \"coolwarm\")"
   ]
  },
  {
   "cell_type": "code",
   "execution_count": 124,
   "id": "17d630b6",
   "metadata": {},
   "outputs": [],
   "source": [
    "final = pd.get_dummies(data=df_final,drop_first=True)"
   ]
  },
  {
   "cell_type": "code",
   "execution_count": 125,
   "id": "e4990a16",
   "metadata": {},
   "outputs": [
    {
     "data": {
      "text/html": [
       "<div>\n",
       "<style scoped>\n",
       "    .dataframe tbody tr th:only-of-type {\n",
       "        vertical-align: middle;\n",
       "    }\n",
       "\n",
       "    .dataframe tbody tr th {\n",
       "        vertical-align: top;\n",
       "    }\n",
       "\n",
       "    .dataframe thead th {\n",
       "        text-align: right;\n",
       "    }\n",
       "</style>\n",
       "<table border=\"1\" class=\"dataframe\">\n",
       "  <thead>\n",
       "    <tr style=\"text-align: right;\">\n",
       "      <th></th>\n",
       "      <th>Race_ethnicity_Asian__Non_Hispanic</th>\n",
       "      <th>Race_ethnicity_Black__Non_Hispanic</th>\n",
       "      <th>Race_ethnicity_Hispanic_Latino</th>\n",
       "      <th>Race_ethnicity_Missing</th>\n",
       "      <th>Race_ethnicity_Multiple_Other__Non_Hispanic</th>\n",
       "      <th>Race_ethnicity_Native_Hawaiian_Other_Pacific_Islander__Non_Hispanic</th>\n",
       "      <th>Race_ethnicity_Unknown</th>\n",
       "      <th>Race_ethnicity_White__Non_Hispanic</th>\n",
       "      <th>month</th>\n",
       "      <th>year</th>\n",
       "      <th>...</th>\n",
       "      <th>age_group_Unknown</th>\n",
       "      <th>hosp_yn_Unknown</th>\n",
       "      <th>hosp_yn_Yes</th>\n",
       "      <th>icu_yn_Unknown</th>\n",
       "      <th>icu_yn_Yes</th>\n",
       "      <th>medcond_yn_Unknown</th>\n",
       "      <th>medcond_yn_Yes</th>\n",
       "      <th>day_cat_mid_of_month</th>\n",
       "      <th>day_cat_starting_of_month</th>\n",
       "      <th>death_1</th>\n",
       "    </tr>\n",
       "  </thead>\n",
       "  <tbody>\n",
       "    <tr>\n",
       "      <th>0</th>\n",
       "      <td>0</td>\n",
       "      <td>0</td>\n",
       "      <td>0</td>\n",
       "      <td>0</td>\n",
       "      <td>0</td>\n",
       "      <td>0</td>\n",
       "      <td>0</td>\n",
       "      <td>1</td>\n",
       "      <td>7</td>\n",
       "      <td>2020</td>\n",
       "      <td>...</td>\n",
       "      <td>0</td>\n",
       "      <td>0</td>\n",
       "      <td>1</td>\n",
       "      <td>1</td>\n",
       "      <td>0</td>\n",
       "      <td>1</td>\n",
       "      <td>0</td>\n",
       "      <td>0</td>\n",
       "      <td>0</td>\n",
       "      <td>1</td>\n",
       "    </tr>\n",
       "    <tr>\n",
       "      <th>1</th>\n",
       "      <td>0</td>\n",
       "      <td>0</td>\n",
       "      <td>0</td>\n",
       "      <td>0</td>\n",
       "      <td>0</td>\n",
       "      <td>0</td>\n",
       "      <td>0</td>\n",
       "      <td>1</td>\n",
       "      <td>8</td>\n",
       "      <td>2020</td>\n",
       "      <td>...</td>\n",
       "      <td>0</td>\n",
       "      <td>0</td>\n",
       "      <td>1</td>\n",
       "      <td>1</td>\n",
       "      <td>0</td>\n",
       "      <td>1</td>\n",
       "      <td>0</td>\n",
       "      <td>0</td>\n",
       "      <td>1</td>\n",
       "      <td>1</td>\n",
       "    </tr>\n",
       "    <tr>\n",
       "      <th>2</th>\n",
       "      <td>0</td>\n",
       "      <td>0</td>\n",
       "      <td>0</td>\n",
       "      <td>0</td>\n",
       "      <td>0</td>\n",
       "      <td>0</td>\n",
       "      <td>0</td>\n",
       "      <td>1</td>\n",
       "      <td>3</td>\n",
       "      <td>2020</td>\n",
       "      <td>...</td>\n",
       "      <td>0</td>\n",
       "      <td>0</td>\n",
       "      <td>1</td>\n",
       "      <td>0</td>\n",
       "      <td>0</td>\n",
       "      <td>0</td>\n",
       "      <td>1</td>\n",
       "      <td>0</td>\n",
       "      <td>0</td>\n",
       "      <td>1</td>\n",
       "    </tr>\n",
       "    <tr>\n",
       "      <th>3</th>\n",
       "      <td>0</td>\n",
       "      <td>1</td>\n",
       "      <td>0</td>\n",
       "      <td>0</td>\n",
       "      <td>0</td>\n",
       "      <td>0</td>\n",
       "      <td>0</td>\n",
       "      <td>0</td>\n",
       "      <td>8</td>\n",
       "      <td>2020</td>\n",
       "      <td>...</td>\n",
       "      <td>0</td>\n",
       "      <td>0</td>\n",
       "      <td>1</td>\n",
       "      <td>1</td>\n",
       "      <td>0</td>\n",
       "      <td>0</td>\n",
       "      <td>1</td>\n",
       "      <td>1</td>\n",
       "      <td>0</td>\n",
       "      <td>1</td>\n",
       "    </tr>\n",
       "    <tr>\n",
       "      <th>4</th>\n",
       "      <td>1</td>\n",
       "      <td>0</td>\n",
       "      <td>0</td>\n",
       "      <td>0</td>\n",
       "      <td>0</td>\n",
       "      <td>0</td>\n",
       "      <td>0</td>\n",
       "      <td>0</td>\n",
       "      <td>4</td>\n",
       "      <td>2020</td>\n",
       "      <td>...</td>\n",
       "      <td>0</td>\n",
       "      <td>1</td>\n",
       "      <td>0</td>\n",
       "      <td>1</td>\n",
       "      <td>0</td>\n",
       "      <td>1</td>\n",
       "      <td>0</td>\n",
       "      <td>1</td>\n",
       "      <td>0</td>\n",
       "      <td>1</td>\n",
       "    </tr>\n",
       "    <tr>\n",
       "      <th>...</th>\n",
       "      <td>...</td>\n",
       "      <td>...</td>\n",
       "      <td>...</td>\n",
       "      <td>...</td>\n",
       "      <td>...</td>\n",
       "      <td>...</td>\n",
       "      <td>...</td>\n",
       "      <td>...</td>\n",
       "      <td>...</td>\n",
       "      <td>...</td>\n",
       "      <td>...</td>\n",
       "      <td>...</td>\n",
       "      <td>...</td>\n",
       "      <td>...</td>\n",
       "      <td>...</td>\n",
       "      <td>...</td>\n",
       "      <td>...</td>\n",
       "      <td>...</td>\n",
       "      <td>...</td>\n",
       "      <td>...</td>\n",
       "      <td>...</td>\n",
       "    </tr>\n",
       "    <tr>\n",
       "      <th>184150</th>\n",
       "      <td>0</td>\n",
       "      <td>0</td>\n",
       "      <td>0</td>\n",
       "      <td>0</td>\n",
       "      <td>0</td>\n",
       "      <td>0</td>\n",
       "      <td>0</td>\n",
       "      <td>1</td>\n",
       "      <td>9</td>\n",
       "      <td>2020</td>\n",
       "      <td>...</td>\n",
       "      <td>0</td>\n",
       "      <td>0</td>\n",
       "      <td>0</td>\n",
       "      <td>1</td>\n",
       "      <td>0</td>\n",
       "      <td>1</td>\n",
       "      <td>0</td>\n",
       "      <td>0</td>\n",
       "      <td>1</td>\n",
       "      <td>0</td>\n",
       "    </tr>\n",
       "    <tr>\n",
       "      <th>184151</th>\n",
       "      <td>0</td>\n",
       "      <td>0</td>\n",
       "      <td>1</td>\n",
       "      <td>0</td>\n",
       "      <td>0</td>\n",
       "      <td>0</td>\n",
       "      <td>0</td>\n",
       "      <td>0</td>\n",
       "      <td>6</td>\n",
       "      <td>2020</td>\n",
       "      <td>...</td>\n",
       "      <td>0</td>\n",
       "      <td>0</td>\n",
       "      <td>0</td>\n",
       "      <td>1</td>\n",
       "      <td>0</td>\n",
       "      <td>1</td>\n",
       "      <td>0</td>\n",
       "      <td>0</td>\n",
       "      <td>0</td>\n",
       "      <td>0</td>\n",
       "    </tr>\n",
       "    <tr>\n",
       "      <th>184152</th>\n",
       "      <td>1</td>\n",
       "      <td>0</td>\n",
       "      <td>0</td>\n",
       "      <td>0</td>\n",
       "      <td>0</td>\n",
       "      <td>0</td>\n",
       "      <td>0</td>\n",
       "      <td>0</td>\n",
       "      <td>8</td>\n",
       "      <td>2020</td>\n",
       "      <td>...</td>\n",
       "      <td>0</td>\n",
       "      <td>0</td>\n",
       "      <td>0</td>\n",
       "      <td>1</td>\n",
       "      <td>0</td>\n",
       "      <td>1</td>\n",
       "      <td>0</td>\n",
       "      <td>0</td>\n",
       "      <td>1</td>\n",
       "      <td>0</td>\n",
       "    </tr>\n",
       "    <tr>\n",
       "      <th>184153</th>\n",
       "      <td>0</td>\n",
       "      <td>0</td>\n",
       "      <td>0</td>\n",
       "      <td>0</td>\n",
       "      <td>0</td>\n",
       "      <td>0</td>\n",
       "      <td>1</td>\n",
       "      <td>0</td>\n",
       "      <td>5</td>\n",
       "      <td>2020</td>\n",
       "      <td>...</td>\n",
       "      <td>0</td>\n",
       "      <td>1</td>\n",
       "      <td>0</td>\n",
       "      <td>1</td>\n",
       "      <td>0</td>\n",
       "      <td>1</td>\n",
       "      <td>0</td>\n",
       "      <td>0</td>\n",
       "      <td>0</td>\n",
       "      <td>0</td>\n",
       "    </tr>\n",
       "    <tr>\n",
       "      <th>184154</th>\n",
       "      <td>0</td>\n",
       "      <td>1</td>\n",
       "      <td>0</td>\n",
       "      <td>0</td>\n",
       "      <td>0</td>\n",
       "      <td>0</td>\n",
       "      <td>0</td>\n",
       "      <td>0</td>\n",
       "      <td>8</td>\n",
       "      <td>2020</td>\n",
       "      <td>...</td>\n",
       "      <td>0</td>\n",
       "      <td>0</td>\n",
       "      <td>0</td>\n",
       "      <td>1</td>\n",
       "      <td>0</td>\n",
       "      <td>1</td>\n",
       "      <td>0</td>\n",
       "      <td>1</td>\n",
       "      <td>0</td>\n",
       "      <td>0</td>\n",
       "    </tr>\n",
       "  </tbody>\n",
       "</table>\n",
       "<p>184155 rows × 34 columns</p>\n",
       "</div>"
      ],
      "text/plain": [
       "        Race_ethnicity_Asian__Non_Hispanic  \\\n",
       "0                                        0   \n",
       "1                                        0   \n",
       "2                                        0   \n",
       "3                                        0   \n",
       "4                                        1   \n",
       "...                                    ...   \n",
       "184150                                   0   \n",
       "184151                                   0   \n",
       "184152                                   1   \n",
       "184153                                   0   \n",
       "184154                                   0   \n",
       "\n",
       "        Race_ethnicity_Black__Non_Hispanic  Race_ethnicity_Hispanic_Latino  \\\n",
       "0                                        0                               0   \n",
       "1                                        0                               0   \n",
       "2                                        0                               0   \n",
       "3                                        1                               0   \n",
       "4                                        0                               0   \n",
       "...                                    ...                             ...   \n",
       "184150                                   0                               0   \n",
       "184151                                   0                               1   \n",
       "184152                                   0                               0   \n",
       "184153                                   0                               0   \n",
       "184154                                   1                               0   \n",
       "\n",
       "        Race_ethnicity_Missing  Race_ethnicity_Multiple_Other__Non_Hispanic  \\\n",
       "0                            0                                            0   \n",
       "1                            0                                            0   \n",
       "2                            0                                            0   \n",
       "3                            0                                            0   \n",
       "4                            0                                            0   \n",
       "...                        ...                                          ...   \n",
       "184150                       0                                            0   \n",
       "184151                       0                                            0   \n",
       "184152                       0                                            0   \n",
       "184153                       0                                            0   \n",
       "184154                       0                                            0   \n",
       "\n",
       "        Race_ethnicity_Native_Hawaiian_Other_Pacific_Islander__Non_Hispanic  \\\n",
       "0                                                       0                     \n",
       "1                                                       0                     \n",
       "2                                                       0                     \n",
       "3                                                       0                     \n",
       "4                                                       0                     \n",
       "...                                                   ...                     \n",
       "184150                                                  0                     \n",
       "184151                                                  0                     \n",
       "184152                                                  0                     \n",
       "184153                                                  0                     \n",
       "184154                                                  0                     \n",
       "\n",
       "        Race_ethnicity_Unknown  Race_ethnicity_White__Non_Hispanic  month  \\\n",
       "0                            0                                   1      7   \n",
       "1                            0                                   1      8   \n",
       "2                            0                                   1      3   \n",
       "3                            0                                   0      8   \n",
       "4                            0                                   0      4   \n",
       "...                        ...                                 ...    ...   \n",
       "184150                       0                                   1      9   \n",
       "184151                       0                                   0      6   \n",
       "184152                       0                                   0      8   \n",
       "184153                       1                                   0      5   \n",
       "184154                       0                                   0      8   \n",
       "\n",
       "        year  ...  age_group_Unknown  hosp_yn_Unknown  hosp_yn_Yes  \\\n",
       "0       2020  ...                  0                0            1   \n",
       "1       2020  ...                  0                0            1   \n",
       "2       2020  ...                  0                0            1   \n",
       "3       2020  ...                  0                0            1   \n",
       "4       2020  ...                  0                1            0   \n",
       "...      ...  ...                ...              ...          ...   \n",
       "184150  2020  ...                  0                0            0   \n",
       "184151  2020  ...                  0                0            0   \n",
       "184152  2020  ...                  0                0            0   \n",
       "184153  2020  ...                  0                1            0   \n",
       "184154  2020  ...                  0                0            0   \n",
       "\n",
       "        icu_yn_Unknown  icu_yn_Yes  medcond_yn_Unknown  medcond_yn_Yes  \\\n",
       "0                    1           0                   1               0   \n",
       "1                    1           0                   1               0   \n",
       "2                    0           0                   0               1   \n",
       "3                    1           0                   0               1   \n",
       "4                    1           0                   1               0   \n",
       "...                ...         ...                 ...             ...   \n",
       "184150               1           0                   1               0   \n",
       "184151               1           0                   1               0   \n",
       "184152               1           0                   1               0   \n",
       "184153               1           0                   1               0   \n",
       "184154               1           0                   1               0   \n",
       "\n",
       "        day_cat_mid_of_month  day_cat_starting_of_month  death_1  \n",
       "0                          0                          0        1  \n",
       "1                          0                          1        1  \n",
       "2                          0                          0        1  \n",
       "3                          1                          0        1  \n",
       "4                          1                          0        1  \n",
       "...                      ...                        ...      ...  \n",
       "184150                     0                          1        0  \n",
       "184151                     0                          0        0  \n",
       "184152                     0                          1        0  \n",
       "184153                     0                          0        0  \n",
       "184154                     1                          0        0  \n",
       "\n",
       "[184155 rows x 34 columns]"
      ]
     },
     "execution_count": 125,
     "metadata": {},
     "output_type": "execute_result"
    }
   ],
   "source": [
    "final"
   ]
  },
  {
   "cell_type": "markdown",
   "id": "5126c234",
   "metadata": {},
   "source": [
    "### Model Development"
   ]
  },
  {
   "cell_type": "code",
   "execution_count": 126,
   "id": "eeb90d4d",
   "metadata": {},
   "outputs": [],
   "source": [
    "y = final[\"death_1\"]\n",
    "x = final.drop(columns=[\"death_1\"])\n"
   ]
  },
  {
   "cell_type": "code",
   "execution_count": 138,
   "id": "1d6fc049",
   "metadata": {},
   "outputs": [],
   "source": [
    "x_train, x_test, y_train, y_test = train_test_split(x,y, test_size = .3, random_state = 0)"
   ]
  },
  {
   "cell_type": "markdown",
   "id": "56a4c984",
   "metadata": {},
   "source": [
    "### RANDOM FOREST"
   ]
  },
  {
   "cell_type": "code",
   "execution_count": 131,
   "id": "544dec79",
   "metadata": {},
   "outputs": [
    {
     "data": {
      "text/html": [
       "<style>#sk-container-id-2 {color: black;background-color: white;}#sk-container-id-2 pre{padding: 0;}#sk-container-id-2 div.sk-toggleable {background-color: white;}#sk-container-id-2 label.sk-toggleable__label {cursor: pointer;display: block;width: 100%;margin-bottom: 0;padding: 0.3em;box-sizing: border-box;text-align: center;}#sk-container-id-2 label.sk-toggleable__label-arrow:before {content: \"▸\";float: left;margin-right: 0.25em;color: #696969;}#sk-container-id-2 label.sk-toggleable__label-arrow:hover:before {color: black;}#sk-container-id-2 div.sk-estimator:hover label.sk-toggleable__label-arrow:before {color: black;}#sk-container-id-2 div.sk-toggleable__content {max-height: 0;max-width: 0;overflow: hidden;text-align: left;background-color: #f0f8ff;}#sk-container-id-2 div.sk-toggleable__content pre {margin: 0.2em;color: black;border-radius: 0.25em;background-color: #f0f8ff;}#sk-container-id-2 input.sk-toggleable__control:checked~div.sk-toggleable__content {max-height: 200px;max-width: 100%;overflow: auto;}#sk-container-id-2 input.sk-toggleable__control:checked~label.sk-toggleable__label-arrow:before {content: \"▾\";}#sk-container-id-2 div.sk-estimator input.sk-toggleable__control:checked~label.sk-toggleable__label {background-color: #d4ebff;}#sk-container-id-2 div.sk-label input.sk-toggleable__control:checked~label.sk-toggleable__label {background-color: #d4ebff;}#sk-container-id-2 input.sk-hidden--visually {border: 0;clip: rect(1px 1px 1px 1px);clip: rect(1px, 1px, 1px, 1px);height: 1px;margin: -1px;overflow: hidden;padding: 0;position: absolute;width: 1px;}#sk-container-id-2 div.sk-estimator {font-family: monospace;background-color: #f0f8ff;border: 1px dotted black;border-radius: 0.25em;box-sizing: border-box;margin-bottom: 0.5em;}#sk-container-id-2 div.sk-estimator:hover {background-color: #d4ebff;}#sk-container-id-2 div.sk-parallel-item::after {content: \"\";width: 100%;border-bottom: 1px solid gray;flex-grow: 1;}#sk-container-id-2 div.sk-label:hover label.sk-toggleable__label {background-color: #d4ebff;}#sk-container-id-2 div.sk-serial::before {content: \"\";position: absolute;border-left: 1px solid gray;box-sizing: border-box;top: 0;bottom: 0;left: 50%;z-index: 0;}#sk-container-id-2 div.sk-serial {display: flex;flex-direction: column;align-items: center;background-color: white;padding-right: 0.2em;padding-left: 0.2em;position: relative;}#sk-container-id-2 div.sk-item {position: relative;z-index: 1;}#sk-container-id-2 div.sk-parallel {display: flex;align-items: stretch;justify-content: center;background-color: white;position: relative;}#sk-container-id-2 div.sk-item::before, #sk-container-id-2 div.sk-parallel-item::before {content: \"\";position: absolute;border-left: 1px solid gray;box-sizing: border-box;top: 0;bottom: 0;left: 50%;z-index: -1;}#sk-container-id-2 div.sk-parallel-item {display: flex;flex-direction: column;z-index: 1;position: relative;background-color: white;}#sk-container-id-2 div.sk-parallel-item:first-child::after {align-self: flex-end;width: 50%;}#sk-container-id-2 div.sk-parallel-item:last-child::after {align-self: flex-start;width: 50%;}#sk-container-id-2 div.sk-parallel-item:only-child::after {width: 0;}#sk-container-id-2 div.sk-dashed-wrapped {border: 1px dashed gray;margin: 0 0.4em 0.5em 0.4em;box-sizing: border-box;padding-bottom: 0.4em;background-color: white;}#sk-container-id-2 div.sk-label label {font-family: monospace;font-weight: bold;display: inline-block;line-height: 1.2em;}#sk-container-id-2 div.sk-label-container {text-align: center;}#sk-container-id-2 div.sk-container {/* jupyter's `normalize.less` sets `[hidden] { display: none; }` but bootstrap.min.css set `[hidden] { display: none !important; }` so we also need the `!important` here to be able to override the default hidden behavior on the sphinx rendered scikit-learn.org. See: https://github.com/scikit-learn/scikit-learn/issues/21755 */display: inline-block !important;position: relative;}#sk-container-id-2 div.sk-text-repr-fallback {display: none;}</style><div id=\"sk-container-id-2\" class=\"sk-top-container\"><div class=\"sk-text-repr-fallback\"><pre>RandomForestRegressor()</pre><b>In a Jupyter environment, please rerun this cell to show the HTML representation or trust the notebook. <br />On GitHub, the HTML representation is unable to render, please try loading this page with nbviewer.org.</b></div><div class=\"sk-container\" hidden><div class=\"sk-item\"><div class=\"sk-estimator sk-toggleable\"><input class=\"sk-toggleable__control sk-hidden--visually\" id=\"sk-estimator-id-2\" type=\"checkbox\" checked><label for=\"sk-estimator-id-2\" class=\"sk-toggleable__label sk-toggleable__label-arrow\">RandomForestRegressor</label><div class=\"sk-toggleable__content\"><pre>RandomForestRegressor()</pre></div></div></div></div></div>"
      ],
      "text/plain": [
       "RandomForestRegressor()"
      ]
     },
     "execution_count": 131,
     "metadata": {},
     "output_type": "execute_result"
    }
   ],
   "source": [
    "rfr = RandomForestRegressor()\n",
    "rfr.fit(x_train, y_train)"
   ]
  },
  {
   "cell_type": "code",
   "execution_count": 140,
   "id": "f0d93e64",
   "metadata": {},
   "outputs": [
    {
     "name": "stdout",
     "output_type": "stream",
     "text": [
      "Train Accuracy : 0.8084438810568739\n",
      "Test Accuracy : 0.6656116381579075\n"
     ]
    }
   ],
   "source": [
    "print('Train Accuracy :',rfr.score(x_train,y_train))\n",
    "print('Test Accuracy :',rfr.score(x_test,y_test))"
   ]
  },
  {
   "cell_type": "markdown",
   "id": "a0d3863b",
   "metadata": {},
   "source": [
    "### LOGISTIC REGRESSION"
   ]
  },
  {
   "cell_type": "code",
   "execution_count": 146,
   "id": "93c2eac3",
   "metadata": {},
   "outputs": [],
   "source": [
    "logR = LogisticRegression()"
   ]
  },
  {
   "cell_type": "code",
   "execution_count": 147,
   "id": "067ab777",
   "metadata": {},
   "outputs": [
    {
     "name": "stderr",
     "output_type": "stream",
     "text": [
      "C:\\Users\\yashi\\AppData\\Local\\Programs\\Python\\Python39\\lib\\site-packages\\sklearn\\linear_model\\_logistic.py:444: ConvergenceWarning: lbfgs failed to converge (status=1):\n",
      "STOP: TOTAL NO. of ITERATIONS REACHED LIMIT.\n",
      "\n",
      "Increase the number of iterations (max_iter) or scale the data as shown in:\n",
      "    https://scikit-learn.org/stable/modules/preprocessing.html\n",
      "Please also refer to the documentation for alternative solver options:\n",
      "    https://scikit-learn.org/stable/modules/linear_model.html#logistic-regression\n",
      "  n_iter_i = _check_optimize_result(\n"
     ]
    },
    {
     "data": {
      "text/html": [
       "<style>#sk-container-id-3 {color: black;background-color: white;}#sk-container-id-3 pre{padding: 0;}#sk-container-id-3 div.sk-toggleable {background-color: white;}#sk-container-id-3 label.sk-toggleable__label {cursor: pointer;display: block;width: 100%;margin-bottom: 0;padding: 0.3em;box-sizing: border-box;text-align: center;}#sk-container-id-3 label.sk-toggleable__label-arrow:before {content: \"▸\";float: left;margin-right: 0.25em;color: #696969;}#sk-container-id-3 label.sk-toggleable__label-arrow:hover:before {color: black;}#sk-container-id-3 div.sk-estimator:hover label.sk-toggleable__label-arrow:before {color: black;}#sk-container-id-3 div.sk-toggleable__content {max-height: 0;max-width: 0;overflow: hidden;text-align: left;background-color: #f0f8ff;}#sk-container-id-3 div.sk-toggleable__content pre {margin: 0.2em;color: black;border-radius: 0.25em;background-color: #f0f8ff;}#sk-container-id-3 input.sk-toggleable__control:checked~div.sk-toggleable__content {max-height: 200px;max-width: 100%;overflow: auto;}#sk-container-id-3 input.sk-toggleable__control:checked~label.sk-toggleable__label-arrow:before {content: \"▾\";}#sk-container-id-3 div.sk-estimator input.sk-toggleable__control:checked~label.sk-toggleable__label {background-color: #d4ebff;}#sk-container-id-3 div.sk-label input.sk-toggleable__control:checked~label.sk-toggleable__label {background-color: #d4ebff;}#sk-container-id-3 input.sk-hidden--visually {border: 0;clip: rect(1px 1px 1px 1px);clip: rect(1px, 1px, 1px, 1px);height: 1px;margin: -1px;overflow: hidden;padding: 0;position: absolute;width: 1px;}#sk-container-id-3 div.sk-estimator {font-family: monospace;background-color: #f0f8ff;border: 1px dotted black;border-radius: 0.25em;box-sizing: border-box;margin-bottom: 0.5em;}#sk-container-id-3 div.sk-estimator:hover {background-color: #d4ebff;}#sk-container-id-3 div.sk-parallel-item::after {content: \"\";width: 100%;border-bottom: 1px solid gray;flex-grow: 1;}#sk-container-id-3 div.sk-label:hover label.sk-toggleable__label {background-color: #d4ebff;}#sk-container-id-3 div.sk-serial::before {content: \"\";position: absolute;border-left: 1px solid gray;box-sizing: border-box;top: 0;bottom: 0;left: 50%;z-index: 0;}#sk-container-id-3 div.sk-serial {display: flex;flex-direction: column;align-items: center;background-color: white;padding-right: 0.2em;padding-left: 0.2em;position: relative;}#sk-container-id-3 div.sk-item {position: relative;z-index: 1;}#sk-container-id-3 div.sk-parallel {display: flex;align-items: stretch;justify-content: center;background-color: white;position: relative;}#sk-container-id-3 div.sk-item::before, #sk-container-id-3 div.sk-parallel-item::before {content: \"\";position: absolute;border-left: 1px solid gray;box-sizing: border-box;top: 0;bottom: 0;left: 50%;z-index: -1;}#sk-container-id-3 div.sk-parallel-item {display: flex;flex-direction: column;z-index: 1;position: relative;background-color: white;}#sk-container-id-3 div.sk-parallel-item:first-child::after {align-self: flex-end;width: 50%;}#sk-container-id-3 div.sk-parallel-item:last-child::after {align-self: flex-start;width: 50%;}#sk-container-id-3 div.sk-parallel-item:only-child::after {width: 0;}#sk-container-id-3 div.sk-dashed-wrapped {border: 1px dashed gray;margin: 0 0.4em 0.5em 0.4em;box-sizing: border-box;padding-bottom: 0.4em;background-color: white;}#sk-container-id-3 div.sk-label label {font-family: monospace;font-weight: bold;display: inline-block;line-height: 1.2em;}#sk-container-id-3 div.sk-label-container {text-align: center;}#sk-container-id-3 div.sk-container {/* jupyter's `normalize.less` sets `[hidden] { display: none; }` but bootstrap.min.css set `[hidden] { display: none !important; }` so we also need the `!important` here to be able to override the default hidden behavior on the sphinx rendered scikit-learn.org. See: https://github.com/scikit-learn/scikit-learn/issues/21755 */display: inline-block !important;position: relative;}#sk-container-id-3 div.sk-text-repr-fallback {display: none;}</style><div id=\"sk-container-id-3\" class=\"sk-top-container\"><div class=\"sk-text-repr-fallback\"><pre>LogisticRegression()</pre><b>In a Jupyter environment, please rerun this cell to show the HTML representation or trust the notebook. <br />On GitHub, the HTML representation is unable to render, please try loading this page with nbviewer.org.</b></div><div class=\"sk-container\" hidden><div class=\"sk-item\"><div class=\"sk-estimator sk-toggleable\"><input class=\"sk-toggleable__control sk-hidden--visually\" id=\"sk-estimator-id-3\" type=\"checkbox\" checked><label for=\"sk-estimator-id-3\" class=\"sk-toggleable__label sk-toggleable__label-arrow\">LogisticRegression</label><div class=\"sk-toggleable__content\"><pre>LogisticRegression()</pre></div></div></div></div></div>"
      ],
      "text/plain": [
       "LogisticRegression()"
      ]
     },
     "execution_count": 147,
     "metadata": {},
     "output_type": "execute_result"
    }
   ],
   "source": [
    "logR.fit(x_train, y_train)"
   ]
  },
  {
   "cell_type": "code",
   "execution_count": 148,
   "id": "676e3f17",
   "metadata": {},
   "outputs": [
    {
     "name": "stdout",
     "output_type": "stream",
     "text": [
      "Train score :  0.8665715083625531\n",
      "Test score :  0.8686444512824226\n"
     ]
    }
   ],
   "source": [
    "print(\"Train score : \", logR.score(x_train, y_train))\n",
    "print(\"Test score : \", logR.score(x_test, y_test))"
   ]
  },
  {
   "cell_type": "markdown",
   "id": "7c3e72bf",
   "metadata": {},
   "source": [
    "### DECISION TREE"
   ]
  },
  {
   "cell_type": "code",
   "execution_count": 141,
   "id": "27df8878",
   "metadata": {},
   "outputs": [
    {
     "name": "stdout",
     "output_type": "stream",
     "text": [
      "Train Accuracy : 0.937\n",
      "Test Accuracy : 0.871\n"
     ]
    }
   ],
   "source": [
    "dt=DecisionTreeClassifier()\n",
    "dt.fit(x_train,y_train)\n",
    "\n",
    "print('Train Accuracy :',round(dt.score(x_train,y_train),3))\n",
    "print('Test Accuracy :',round(dt.score(x_test,y_test),3))"
   ]
  },
  {
   "cell_type": "code",
   "execution_count": 142,
   "id": "4b59ca9a",
   "metadata": {},
   "outputs": [
    {
     "name": "stdout",
     "output_type": "stream",
     "text": [
      "Train Accuracy : 0.89\n",
      "Test Accuracy : 0.888\n"
     ]
    }
   ],
   "source": [
    "dt1=DecisionTreeClassifier(max_depth=6)\n",
    "dt1.fit(x_train,y_train)\n",
    "\n",
    "print('Train Accuracy :',round(dt1.score(x_train,y_train),3))\n",
    "print('Test Accuracy :',round(dt1.score(x_test,y_test),3))"
   ]
  },
  {
   "cell_type": "code",
   "execution_count": 143,
   "id": "2601cb13",
   "metadata": {},
   "outputs": [
    {
     "name": "stdout",
     "output_type": "stream",
     "text": [
      "Train Accuracy : 89.9 %\n",
      "Test Accuracy : 89.3 %\n"
     ]
    }
   ],
   "source": [
    "dt1=DecisionTreeClassifier(min_samples_split=150)\n",
    "dt1.fit(x_train,y_train)\n",
    "\n",
    "print('Train Accuracy : '+str(round(dt1.score(x_train,y_train),3)*100)+str(' %'))\n",
    "print('Test Accuracy : '+str(round(dt1.score(x_test,y_test),3)*100)+str(' %'))"
   ]
  },
  {
   "cell_type": "code",
   "execution_count": 144,
   "id": "2a30de92",
   "metadata": {},
   "outputs": [
    {
     "name": "stdout",
     "output_type": "stream",
     "text": [
      "Train Accuracy : 89.7 %\n",
      "Test Accuracy : 89.3 %\n"
     ]
    }
   ],
   "source": [
    "dt1=DecisionTreeClassifier(min_samples_leaf=50)\n",
    "dt1.fit(x_train,y_train)\n",
    "\n",
    "print('Train Accuracy : '+str(round(dt1.score(x_train,y_train),3)*100)+str(' %'))\n",
    "print('Test Accuracy : '+str(round(dt1.score(x_test,y_test),3)*100)+str(' %'))"
   ]
  },
  {
   "cell_type": "code",
   "execution_count": 145,
   "id": "8e185ad1",
   "metadata": {},
   "outputs": [
    {
     "name": "stdout",
     "output_type": "stream",
     "text": [
      "Train Accuracy : 93.7 %\n",
      "Test Accuracy : 87.2 %\n"
     ]
    }
   ],
   "source": [
    "dt1=DecisionTreeClassifier(criterion='entropy')\n",
    "dt1.fit(x_train,y_train)\n",
    "\n",
    "print('Train Accuracy : '+str(round(dt1.score(x_train,y_train),3)*100)+str(' %'))\n",
    "print('Test Accuracy : '+str(round(dt1.score(x_test,y_test),3)*100)+str(' %'))"
   ]
  },
  {
   "cell_type": "code",
   "execution_count": 149,
   "id": "e0b3f661",
   "metadata": {},
   "outputs": [],
   "source": [
    "def classification_eva(act,pred,probs):\n",
    "    ac1=metrics.accuracy_score(act,pred)\n",
    "    rc1=metrics.recall_score(act,pred)\n",
    "    pc1=metrics.precision_score(act,pred)\n",
    "    f1=metrics.f1_score(act,pred)\n",
    "    auc1=metrics.roc_auc_score(act,pred)\n",
    "    result={'Accuracy':ac1, 'Recall':rc1, 'Precision': pc1, 'F1 score': f1, 'AUC':auc1}\n",
    "    \n",
    "    fpr, tpr, thresholds=metrics.roc_curve(act,probs)\n",
    "    plt.plot([0,1],[0,1],'k--')\n",
    "    plt.plot(fpr,tpr)\n",
    "    plt.xlabel('fpr')\n",
    "    plt.ylabel('tpr')\n",
    "    plt.show()\n",
    "    return result"
   ]
  },
  {
   "cell_type": "code",
   "execution_count": 150,
   "id": "4849c15a",
   "metadata": {},
   "outputs": [],
   "source": [
    "pred_train=logR.predict(x_train)\n",
    "pred_test=logR.predict(x_test)"
   ]
  },
  {
   "cell_type": "code",
   "execution_count": 151,
   "id": "006c3f46",
   "metadata": {},
   "outputs": [],
   "source": [
    "prob_train_1 = logR.predict_proba(x_train)[:,1]\n",
    "prob_test_1 = logR.predict_proba(x_test)[:,1]"
   ]
  },
  {
   "cell_type": "code",
   "execution_count": 152,
   "id": "fccf26e9",
   "metadata": {},
   "outputs": [
    {
     "data": {
      "image/png": "[encoded data removed]",
      "text/plain": [
       "<Figure size 432x288 with 1 Axes>"
      ]
     },
     "metadata": {
      "needs_background": "light"
     },
     "output_type": "display_data"
    },
    {
     "data": {
      "text/plain": [
       "{'Accuracy': 0.8665715083625531,\n",
       " 'Recall': 0.8123135918193438,\n",
       " 'Precision': 0.8481557874302353,\n",
       " 'F1 score': 0.8298478523237638,\n",
       " 'AUC': 0.8575699491047958}"
      ]
     },
     "execution_count": 152,
     "metadata": {},
     "output_type": "execute_result"
    }
   ],
   "source": [
    "classification_eva(act= y_train,pred=pred_train, probs=prob_train_1)"
   ]
  },
  {
   "cell_type": "code",
   "execution_count": 153,
   "id": "1e06183f",
   "metadata": {},
   "outputs": [
    {
     "data": {
      "image/png": "[encoded data removed]",
      "text/plain": [
       "<Figure size 432x288 with 1 Axes>"
      ]
     },
     "metadata": {
      "needs_background": "light"
     },
     "output_type": "display_data"
    },
    {
     "data": {
      "text/plain": [
       "{'Accuracy': 0.8686444512824226,\n",
       " 'Recall': 0.813689957333578,\n",
       " 'Precision': 0.8473151156124594,\n",
       " 'F1 score': 0.8301621849329495,\n",
       " 'AUC': 0.8590721834500477}"
      ]
     },
     "execution_count": 153,
     "metadata": {},
     "output_type": "execute_result"
    }
   ],
   "source": [
    "classification_eva(act= y_test,pred=pred_test, probs=prob_test_1)"
   ]
  },
  {
   "cell_type": "code",
   "execution_count": null,
   "id": "1535c147",
   "metadata": {},
   "outputs": [],
   "source": []
  }
 ],
 "metadata": {
  "kernelspec": {
   "display_name": "Python 3 (ipykernel)",
   "language": "python",
   "name": "python3"
  },
  "language_info": {
   "codemirror_mode": {
    "name": "ipython",
    "version": 3
   },
   "file_extension": ".py",
   "mimetype": "text/x-python",
   "name": "python",
   "nbconvert_exporter": "python",
   "pygments_lexer": "ipython3",
   "version": "3.9.12"
  }
 },
 "nbformat": 4,
 "nbformat_minor": 5
}
